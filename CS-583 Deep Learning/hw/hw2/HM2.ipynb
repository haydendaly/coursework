{
 "cells": [
  {
   "cell_type": "markdown",
   "metadata": {},
   "source": [
    "# HM2: Numerical Optimization for Logistic Regression.\n",
    "\n",
    "### Name: Hayden Daly\n"
   ]
  },
  {
   "cell_type": "markdown",
   "metadata": {},
   "source": [
    "## 0. You will do the following:\n",
    "\n",
    "1. Read the lecture note: [click here](https://github.com/wangshusen/DeepLearning/blob/master/LectureNotes/Logistic/paper/logistic.pdf)\n",
    "\n",
    "2. Read, complete, and run my code.\n",
    "\n",
    "3. **Implement mini-batch SGD** and evaluate the performance.\n",
    "\n",
    "4. Convert the .IPYNB file to .HTML file.\n",
    "\n",
    "    * The HTML file must contain **the code** and **the output after execution**.\n",
    "    \n",
    "    * Missing **the output after execution** will not be graded.\n",
    "    \n",
    "5. Upload this .HTML file to your Google Drive, Dropbox, or your Github repo.  (If you submit the file to Google Drive or Dropbox, you must make the file \"open-access\". The delay caused by \"deny of access\" may result in late penalty.)\n",
    "\n",
    "6. Submit the link to this .HTML file to Canvas.\n",
    "\n",
    "    * Example: https://github.com/wangshusen/CS583-2020S/blob/master/homework/HM2/HM2.html\n",
    "\n",
    "\n",
    "## Grading criteria:\n",
    "\n",
    "1. When computing the ```gradient``` and ```objective function value``` using a batch of samples, use **matrix-vector multiplication** rather than a FOR LOOP of **vector-vector multiplications**.\n",
    "\n",
    "2. Plot ```objective function value``` against ```epochs```. In the plot, compare GD, SGD, and MB-SGD (with $b=8$ and $b=64$). The plot must look reasonable."
   ]
  },
  {
   "cell_type": "code",
   "execution_count": 1,
   "metadata": {},
   "outputs": [
    {
     "data": {
      "text/plain": [
       "'3.8.1 (default, Jan 28 2020, 21:02:09) \\n[Clang 10.0.1 (clang-1001.0.46.4)]'"
      ]
     },
     "execution_count": 1,
     "metadata": {},
     "output_type": "execute_result"
    }
   ],
   "source": [
    "import sys\n",
    "sys.version"
   ]
  },
  {
   "cell_type": "markdown",
   "metadata": {},
   "source": [
    "# 1. Data processing\n",
    "\n",
    "- Download the Diabete dataset from https://www.csie.ntu.edu.tw/~cjlin/libsvmtools/datasets/binary/diabetes\n",
    "- Load the data using sklearn.\n",
    "- Preprocess the data."
   ]
  },
  {
   "cell_type": "markdown",
   "metadata": {},
   "source": [
    "## 1.1. Load the data"
   ]
  },
  {
   "cell_type": "code",
   "execution_count": 2,
   "metadata": {},
   "outputs": [
    {
     "name": "stdout",
     "output_type": "stream",
     "text": [
      "Shape of x: (768, 8)\n",
      "Shape of y: (768,)\n"
     ]
    }
   ],
   "source": [
    "from sklearn import datasets\n",
    "import numpy\n",
    "\n",
    "x_sparse, y = datasets.load_svmlight_file('diabetes')\n",
    "x = x_sparse.todense()\n",
    "\n",
    "print('Shape of x: ' + str(x.shape))\n",
    "print('Shape of y: ' + str(y.shape))"
   ]
  },
  {
   "cell_type": "markdown",
   "metadata": {},
   "source": [
    "## 1.2. Partition to training and test sets"
   ]
  },
  {
   "cell_type": "code",
   "execution_count": 3,
   "metadata": {},
   "outputs": [
    {
     "name": "stdout",
     "output_type": "stream",
     "text": [
      "Shape of x_train: (640, 8)\n",
      "Shape of x_test: (128, 8)\n",
      "Shape of y_train: (640, 1)\n",
      "Shape of y_test: (128, 1)\n"
     ]
    }
   ],
   "source": [
    "# partition the data to training and test sets\n",
    "n = x.shape[0]\n",
    "n_train = 640\n",
    "n_test = n - n_train\n",
    "\n",
    "rand_indices = numpy.random.permutation(n)\n",
    "train_indices = rand_indices[0:n_train]\n",
    "test_indices = rand_indices[n_train:n]\n",
    "\n",
    "x_train = x[train_indices, :]\n",
    "x_test = x[test_indices, :]\n",
    "y_train = y[train_indices].reshape(n_train, 1)\n",
    "y_test = y[test_indices].reshape(n_test, 1)\n",
    "\n",
    "print('Shape of x_train: ' + str(x_train.shape))\n",
    "print('Shape of x_test: ' + str(x_test.shape))\n",
    "print('Shape of y_train: ' + str(y_train.shape))\n",
    "print('Shape of y_test: ' + str(y_test.shape))"
   ]
  },
  {
   "cell_type": "markdown",
   "metadata": {},
   "source": [
    "## 1.3. Feature scaling"
   ]
  },
  {
   "cell_type": "markdown",
   "metadata": {},
   "source": [
    "Use the standardization to trainsform both training and test features"
   ]
  },
  {
   "cell_type": "code",
   "execution_count": 4,
   "metadata": {},
   "outputs": [
    {
     "name": "stdout",
     "output_type": "stream",
     "text": [
      "test mean = \n",
      "[[-0.12140724 -0.0265148  -0.02889885 -0.21148323  0.02762899 -0.04478748\n",
      "  -0.09262916 -0.10576317]]\n",
      "test std = \n",
      "[[0.91481386 0.99088888 1.11020585 0.92860958 1.01284643 1.25537572\n",
      "  0.90466685 0.93771986]]\n"
     ]
    }
   ],
   "source": [
    "# Standardization\n",
    "import numpy\n",
    "\n",
    "# calculate mu and sig using the training set\n",
    "d = x_train.shape[1]\n",
    "mu = numpy.mean(x_train, axis=0).reshape(1, d)\n",
    "sig = numpy.std(x_train, axis=0).reshape(1, d)\n",
    "\n",
    "# transform the training features\n",
    "x_train = (x_train - mu) / (sig + 1E-6)\n",
    "\n",
    "# transform the test features\n",
    "x_test = (x_test - mu) / (sig + 1E-6)\n",
    "\n",
    "print('test mean = ')\n",
    "print(numpy.mean(x_test, axis=0))\n",
    "\n",
    "print('test std = ')\n",
    "print(numpy.std(x_test, axis=0))"
   ]
  },
  {
   "cell_type": "markdown",
   "metadata": {},
   "source": [
    "## 1.4. Add a dimension of all ones"
   ]
  },
  {
   "cell_type": "code",
   "execution_count": 5,
   "metadata": {},
   "outputs": [
    {
     "name": "stdout",
     "output_type": "stream",
     "text": [
      "Shape of x_train: (640, 9)\n",
      "Shape of x_test: (128, 9)\n"
     ]
    }
   ],
   "source": [
    "n_train, d = x_train.shape\n",
    "x_train = numpy.concatenate((x_train, numpy.ones((n_train, 1))), axis=1)\n",
    "\n",
    "n_test, d = x_test.shape\n",
    "x_test = numpy.concatenate((x_test, numpy.ones((n_test, 1))), axis=1)\n",
    "\n",
    "print('Shape of x_train: ' + str(x_train.shape))\n",
    "print('Shape of x_test: ' + str(x_test.shape))"
   ]
  },
  {
   "cell_type": "markdown",
   "metadata": {},
   "source": [
    "# 2. Logistic regression model\n",
    "\n",
    "The objective function is $Q (w; X, y) = \\frac{1}{n} \\sum_{i=1}^n \\log \\Big( 1 + \\exp \\big( - y_i x_i^T w \\big) \\Big) + \\frac{\\lambda}{2} \\| w \\|_2^2 $."
   ]
  },
  {
   "cell_type": "code",
   "execution_count": 6,
   "metadata": {},
   "outputs": [],
   "source": [
    "# Calculate the objective function value\n",
    "# Inputs:\n",
    "#     w: d-by-1 matrix\n",
    "#     x: n-by-d matrix\n",
    "#     y: n-by-1 matrix\n",
    "#     lam: scalar, the regularization parameter\n",
    "# Return:\n",
    "#     objective function value (scalar)\n",
    "def objective(w, x, y, lam):\n",
    "    n, d = x.shape\n",
    "    yx = numpy.multiply(y, x) # n-by-d matrix\n",
    "    yxw = numpy.dot(yx, w) # n-by-1 matrix\n",
    "    vec1 = numpy.exp(-yxw) # n-by-1 matrix\n",
    "    vec2 = numpy.log(1 + vec1) # n-by-1 matrix\n",
    "    loss = numpy.mean(vec2) # scalar\n",
    "    reg = lam / 2 * numpy.sum(w * w) # scalar\n",
    "    return loss + reg\n",
    "    "
   ]
  },
  {
   "cell_type": "code",
   "execution_count": 7,
   "metadata": {},
   "outputs": [
    {
     "name": "stdout",
     "output_type": "stream",
     "text": [
      "Initial objective function value = 0.6931471805599453\n"
     ]
    }
   ],
   "source": [
    "# initialize w\n",
    "d = x_train.shape[1]\n",
    "w = numpy.zeros((d, 1))\n",
    "\n",
    "# evaluate the objective function value at w\n",
    "lam = 1E-6\n",
    "objval0 = objective(w, x_train, y_train, lam)\n",
    "print('Initial objective function value = ' + str(objval0))"
   ]
  },
  {
   "cell_type": "markdown",
   "metadata": {},
   "source": [
    "# 3. Numerical optimization"
   ]
  },
  {
   "cell_type": "markdown",
   "metadata": {},
   "source": [
    "## 3.1. Gradient descent\n"
   ]
  },
  {
   "cell_type": "markdown",
   "metadata": {},
   "source": [
    "The gradient at $w$ is $g = - \\frac{1}{n} \\sum_{i=1}^n \\frac{y_i x_i }{1 + \\exp ( y_i x_i^T w)} + \\lambda w$"
   ]
  },
  {
   "cell_type": "code",
   "execution_count": 8,
   "metadata": {},
   "outputs": [],
   "source": [
    "# Calculate the gradient\n",
    "# Inputs:\n",
    "#     w: d-by-1 matrix\n",
    "#     x: n-by-d matrix\n",
    "#     y: n-by-1 matrix\n",
    "#     lam: scalar, the regularization parameter\n",
    "# Return:\n",
    "#     g: g: d-by-1 matrix, full gradient\n",
    "def gradient(w, x, y, lam):\n",
    "    n, d = x.shape\n",
    "    yx = numpy.multiply(y, x) # n-by-d matrix\n",
    "    yxw = numpy.dot(yx, w) # n-by-1 matrix\n",
    "    vec1 = numpy.exp(yxw) # n-by-1 matrix\n",
    "    vec2 = numpy.divide(yx, 1+vec1) # n-by-d matrix\n",
    "    vec3 = -numpy.mean(vec2, axis=0).reshape(d, 1) # d-by-1 matrix\n",
    "    g = vec3 + lam * w\n",
    "    return g"
   ]
  },
  {
   "cell_type": "code",
   "execution_count": 9,
   "metadata": {},
   "outputs": [],
   "source": [
    "# Gradient descent for solving logistic regression\n",
    "# Inputs:\n",
    "#     x: n-by-d matrix\n",
    "#     y: n-by-1 matrix\n",
    "#     lam: scalar, the regularization parameter\n",
    "#     stepsize: scalar\n",
    "#     max_iter: integer, the maximal iterations\n",
    "#     w: d-by-1 matrix, initialization of w\n",
    "# Return:\n",
    "#     w: d-by-1 matrix, the solution\n",
    "#     objvals: a record of each iteration's objective value\n",
    "def grad_descent(x, y, lam, stepsize, max_iter=100, w=None):\n",
    "    n, d = x.shape\n",
    "    objvals = numpy.zeros(max_iter) # store the objective values\n",
    "    if w is None:\n",
    "        w = numpy.zeros((d, 1)) # zero initialization\n",
    "    \n",
    "    for t in range(max_iter):\n",
    "        objval = objective(w, x, y, lam)\n",
    "        objvals[t] = objval\n",
    "        print('Objective value at t=' + str(t) + ' is ' + str(objval))\n",
    "        g = gradient(w, x, y, lam)\n",
    "        w -= stepsize * g\n",
    "    \n",
    "    return w, objvals"
   ]
  },
  {
   "cell_type": "markdown",
   "metadata": {},
   "source": [
    "Run gradient descent."
   ]
  },
  {
   "cell_type": "code",
   "execution_count": 10,
   "metadata": {},
   "outputs": [
    {
     "name": "stdout",
     "output_type": "stream",
     "text": [
      "Objective value at t=0 is 0.6931471805599453\n",
      "Objective value at t=1 is 0.5942623880428545\n",
      "Objective value at t=2 is 0.5545851042949357\n",
      "Objective value at t=3 is 0.533713302225758\n",
      "Objective value at t=4 is 0.520949127839844\n",
      "Objective value at t=5 is 0.5124512045994849\n",
      "Objective value at t=6 is 0.5064871978435324\n",
      "Objective value at t=7 is 0.502149762390753\n",
      "Objective value at t=8 is 0.49891291635301144\n",
      "Objective value at t=9 is 0.4964493524903706\n",
      "Objective value at t=10 is 0.4945447075433733\n",
      "Objective value at t=11 is 0.49305311752626485\n",
      "Objective value at t=12 is 0.4918723417823708\n",
      "Objective value at t=13 is 0.49092898994043715\n",
      "Objective value at t=14 is 0.49016933329290946\n",
      "Objective value at t=15 is 0.4895533759002729\n",
      "Objective value at t=16 is 0.4890509134352263\n",
      "Objective value at t=17 is 0.4886388478050891\n",
      "Objective value at t=18 is 0.4882993185989395\n",
      "Objective value at t=19 is 0.4880183790122528\n",
      "Objective value at t=20 is 0.4877850424068991\n",
      "Objective value at t=21 is 0.48759058583803644\n",
      "Objective value at t=22 is 0.487428034664609\n",
      "Objective value at t=23 is 0.4872917766523765\n",
      "Objective value at t=24 is 0.48717726991859767\n",
      "Objective value at t=25 is 0.4870808197175254\n",
      "Objective value at t=26 is 0.486999406297136\n",
      "Objective value at t=27 is 0.4869305510398178\n",
      "Objective value at t=28 is 0.4868722115788419\n",
      "Objective value at t=29 is 0.48682269904215014\n",
      "Objective value at t=30 is 0.4867806123341886\n",
      "Objective value at t=31 is 0.486744785638334\n",
      "Objective value at t=32 is 0.4867142462513127\n",
      "Objective value at t=33 is 0.4866881805458652\n",
      "Objective value at t=34 is 0.48666590636744456\n",
      "Objective value at t=35 is 0.4866468505530552\n",
      "Objective value at t=36 is 0.4866305305495151\n",
      "Objective value at t=37 is 0.4866165393288178\n",
      "Objective value at t=38 is 0.4866045329674426\n",
      "Objective value at t=39 is 0.4865942203872026\n",
      "Objective value at t=40 is 0.48658535485689586\n",
      "Objective value at t=41 is 0.4865777269335868\n",
      "Objective value at t=42 is 0.48657115858494177\n",
      "Objective value at t=43 is 0.4865654982835697\n",
      "Objective value at t=44 is 0.4865606169036816\n",
      "Objective value at t=45 is 0.486556404281843\n",
      "Objective value at t=46 is 0.4865527663288164\n",
      "Objective value at t=47 is 0.48654962259982926\n",
      "Objective value at t=48 is 0.4865469042470395\n",
      "Objective value at t=49 is 0.4865445522913271\n",
      "Objective value at t=50 is 0.48654251616140715\n",
      "Objective value at t=51 is 0.4865407524571535\n",
      "Objective value at t=52 is 0.4865392239013021\n",
      "Objective value at t=53 is 0.4865378984496968\n",
      "Objective value at t=54 is 0.4865367485351729\n",
      "Objective value at t=55 is 0.4865357504242575\n",
      "Objective value at t=56 is 0.48653488366924025\n",
      "Objective value at t=57 is 0.4865341306409813\n",
      "Objective value at t=58 is 0.4865334761301476\n",
      "Objective value at t=59 is 0.48653290700652496\n",
      "Objective value at t=60 is 0.4865324119276696\n",
      "Objective value at t=61 is 0.4865319810895313\n",
      "Objective value at t=62 is 0.48653160601281\n",
      "Objective value at t=63 is 0.4865312793597774\n",
      "Objective value at t=64 is 0.4865309947770855\n",
      "Objective value at t=65 is 0.48653074676077335\n",
      "Objective value at t=66 is 0.4865305305402472\n",
      "Objective value at t=67 is 0.4865303419784948\n",
      "Objective value at t=68 is 0.48653017748620025\n",
      "Objective value at t=69 is 0.4865300339477727\n",
      "Objective value at t=70 is 0.48652990865759255\n",
      "Objective value at t=71 is 0.48652979926502987\n",
      "Objective value at t=72 is 0.4865297037269963\n",
      "Objective value at t=73 is 0.4865296202669738\n",
      "Objective value at t=74 is 0.4865295473396167\n",
      "Objective value at t=75 is 0.4865294836001474\n",
      "Objective value at t=76 is 0.48652942787788706\n",
      "Objective value at t=77 is 0.48652937915334454\n",
      "Objective value at t=78 is 0.4865293365383798\n",
      "Objective value at t=79 is 0.48652929925901645\n",
      "Objective value at t=80 is 0.48652926664054474\n",
      "Objective value at t=81 is 0.4865292380946028\n",
      "Objective value at t=82 is 0.4865292131079674\n",
      "Objective value at t=83 is 0.48652919123282434\n",
      "Objective value at t=84 is 0.48652917207832\n",
      "Objective value at t=85 is 0.48652915530322016\n",
      "Objective value at t=86 is 0.4865291406095312\n",
      "Objective value at t=87 is 0.48652912773695206\n",
      "Objective value at t=88 is 0.48652911645804964\n",
      "Objective value at t=89 is 0.4865291065740602\n",
      "Objective value at t=90 is 0.4865290979112343\n",
      "Objective value at t=91 is 0.48652909031765457\n",
      "Objective value at t=92 is 0.48652908366046294\n",
      "Objective value at t=93 is 0.4865290778234448\n",
      "Objective value at t=94 is 0.48652907270492346\n",
      "Objective value at t=95 is 0.486529068215924\n",
      "Objective value at t=96 is 0.48652906427857123\n",
      "Objective value at t=97 is 0.4865290608246929\n",
      "Objective value at t=98 is 0.4865290577945997\n",
      "Objective value at t=99 is 0.48652905513602096\n"
     ]
    }
   ],
   "source": [
    "lam = 1E-6\n",
    "stepsize = 1.0\n",
    "w, objvals_gd = grad_descent(x_train, y_train, lam, stepsize)"
   ]
  },
  {
   "cell_type": "markdown",
   "metadata": {},
   "source": [
    "## 3.2. Stochastic gradient descent (SGD)\n",
    "\n",
    "Define $Q_i (w) = \\log \\Big( 1 + \\exp \\big( - y_i x_i^T w \\big) \\Big) + \\frac{\\lambda}{2} \\| w \\|_2^2 $.\n",
    "\n",
    "The stochastic gradient at $w$ is $g_i = \\frac{\\partial Q_i }{ \\partial w} = -\\frac{y_i x_i }{1 + \\exp ( y_i x_i^T w)} + \\lambda w$."
   ]
  },
  {
   "cell_type": "code",
   "execution_count": 11,
   "metadata": {},
   "outputs": [],
   "source": [
    "# Calculate the objective Q_i and the gradient of Q_i\n",
    "# Inputs:\n",
    "#     w: d-by-1 matrix\n",
    "#     xi: 1-by-d matrix\n",
    "#     yi: scalar\n",
    "#     lam: scalar, the regularization parameter\n",
    "# Return:\n",
    "#     obj: scalar, the objective Q_i\n",
    "#     g: d-by-1 matrix, gradient of Q_i\n",
    "def stochastic_objective_gradient(w, xi, yi, lam):\n",
    "    d = xi.shape[0]\n",
    "    yx = yi * xi # 1-by-d matrix\n",
    "    yxw = float(numpy.dot(yx, w)) # scalar\n",
    "    \n",
    "    # calculate objective function Q_i\n",
    "    loss = numpy.log(1 + numpy.exp(-yxw)) # scalar\n",
    "    reg = lam / 2 * numpy.sum(w * w) # scalar\n",
    "    obj = loss + reg\n",
    "    \n",
    "    # calculate stochastic gradient\n",
    "    g_loss = -yx.T / (1 + numpy.exp(yxw)) # d-by-1 matrix\n",
    "    g = g_loss + lam * w # d-by-1 matrix\n",
    "    \n",
    "    return obj, g"
   ]
  },
  {
   "cell_type": "code",
   "execution_count": 12,
   "metadata": {},
   "outputs": [],
   "source": [
    "# SGD for solving logistic regression\n",
    "# Inputs:\n",
    "#     x: n-by-d matrix\n",
    "#     y: n-by-1 matrix\n",
    "#     lam: scalar, the regularization parameter\n",
    "#     stepsize: scalar\n",
    "#     max_epoch: integer, the maximal epochs\n",
    "#     w: d-by-1 matrix, initialization of w\n",
    "# Return:\n",
    "#     w: the solution\n",
    "#     objvals: record of each iteration's objective value\n",
    "def sgd(x, y, lam, stepsize, max_epoch=100, w=None):\n",
    "    n, d = x.shape\n",
    "    objvals = numpy.zeros(max_epoch) # store the objective values\n",
    "    if w is None:\n",
    "        w = numpy.zeros((d, 1)) # zero initialization\n",
    "    \n",
    "    for t in range(max_epoch):\n",
    "        # randomly shuffle the samples\n",
    "        rand_indices = numpy.random.permutation(n)\n",
    "        x_rand = x[rand_indices, :]\n",
    "        y_rand = y[rand_indices, :]\n",
    "        \n",
    "        objval = 0 # accumulate the objective values\n",
    "        for i in range(n):\n",
    "            xi = x_rand[i, :] # 1-by-d matrix\n",
    "            yi = float(y_rand[i, :]) # scalar\n",
    "            obj, g = stochastic_objective_gradient(w, xi, yi, lam)\n",
    "            objval += obj\n",
    "            w -= stepsize * g\n",
    "        \n",
    "        stepsize *= 0.9 # decrease step size\n",
    "        objval /= n\n",
    "        objvals[t] = objval\n",
    "        print('Objective value at epoch t=' + str(t) + ' is ' + str(objval))\n",
    "    \n",
    "    return w, objvals"
   ]
  },
  {
   "cell_type": "markdown",
   "metadata": {},
   "source": [
    "Run SGD."
   ]
  },
  {
   "cell_type": "code",
   "execution_count": 13,
   "metadata": {},
   "outputs": [
    {
     "name": "stdout",
     "output_type": "stream",
     "text": [
      "Objective value at epoch t=0 is 0.5473004203635023\n",
      "Objective value at epoch t=1 is 0.5374826542722513\n",
      "Objective value at epoch t=2 is 0.5200747583134678\n",
      "Objective value at epoch t=3 is 0.5222610935781679\n",
      "Objective value at epoch t=4 is 0.5152230271095395\n",
      "Objective value at epoch t=5 is 0.5238502702332308\n",
      "Objective value at epoch t=6 is 0.5143242145073301\n",
      "Objective value at epoch t=7 is 0.5138465342411915\n",
      "Objective value at epoch t=8 is 0.5078389148418669\n",
      "Objective value at epoch t=9 is 0.5085674150750814\n",
      "Objective value at epoch t=10 is 0.5059212331378082\n",
      "Objective value at epoch t=11 is 0.5047250035454504\n",
      "Objective value at epoch t=12 is 0.5051886834135304\n",
      "Objective value at epoch t=13 is 0.5028572800009093\n",
      "Objective value at epoch t=14 is 0.4985438910902885\n",
      "Objective value at epoch t=15 is 0.5005443957204111\n",
      "Objective value at epoch t=16 is 0.49767424909037344\n",
      "Objective value at epoch t=17 is 0.4975193278944226\n",
      "Objective value at epoch t=18 is 0.4958944675396596\n",
      "Objective value at epoch t=19 is 0.4962035286489866\n",
      "Objective value at epoch t=20 is 0.49464601302005506\n",
      "Objective value at epoch t=21 is 0.4945125850333521\n",
      "Objective value at epoch t=22 is 0.49281047164424185\n",
      "Objective value at epoch t=23 is 0.49219760383043737\n",
      "Objective value at epoch t=24 is 0.4918785578377608\n",
      "Objective value at epoch t=25 is 0.49103142309741193\n",
      "Objective value at epoch t=26 is 0.49135645098071246\n",
      "Objective value at epoch t=27 is 0.49051156378138583\n",
      "Objective value at epoch t=28 is 0.490416643751194\n",
      "Objective value at epoch t=29 is 0.48970229761577483\n",
      "Objective value at epoch t=30 is 0.4891450200610069\n",
      "Objective value at epoch t=31 is 0.48939116890011897\n",
      "Objective value at epoch t=32 is 0.48915561615643427\n",
      "Objective value at epoch t=33 is 0.4887683073081968\n",
      "Objective value at epoch t=34 is 0.48865528255368346\n",
      "Objective value at epoch t=35 is 0.4883835224865841\n",
      "Objective value at epoch t=36 is 0.4882393943731412\n",
      "Objective value at epoch t=37 is 0.4880592364882911\n",
      "Objective value at epoch t=38 is 0.4878841861112547\n",
      "Objective value at epoch t=39 is 0.48775544195299353\n",
      "Objective value at epoch t=40 is 0.48764807744765193\n",
      "Objective value at epoch t=41 is 0.4875373162317792\n",
      "Objective value at epoch t=42 is 0.48744937148228\n",
      "Objective value at epoch t=43 is 0.4873544683210552\n",
      "Objective value at epoch t=44 is 0.48726438583392506\n",
      "Objective value at epoch t=45 is 0.487201458294949\n",
      "Objective value at epoch t=46 is 0.4871348883039011\n",
      "Objective value at epoch t=47 is 0.4870752863786286\n",
      "Objective value at epoch t=48 is 0.48701906656992816\n",
      "Objective value at epoch t=49 is 0.4869693031740832\n",
      "Objective value at epoch t=50 is 0.48692768254500624\n",
      "Objective value at epoch t=51 is 0.4868881229873\n",
      "Objective value at epoch t=52 is 0.48684980851907345\n",
      "Objective value at epoch t=53 is 0.4868195185917717\n",
      "Objective value at epoch t=54 is 0.48679078245339386\n",
      "Objective value at epoch t=55 is 0.48676478135935597\n",
      "Objective value at epoch t=56 is 0.4867399239266129\n",
      "Objective value at epoch t=57 is 0.4867196789233616\n",
      "Objective value at epoch t=58 is 0.4867007860319214\n",
      "Objective value at epoch t=59 is 0.4866831725469871\n",
      "Objective value at epoch t=60 is 0.48666835479385606\n",
      "Objective value at epoch t=61 is 0.4866545142716404\n",
      "Objective value at epoch t=62 is 0.4866420594878629\n",
      "Objective value at epoch t=63 is 0.4866306746409685\n",
      "Objective value at epoch t=64 is 0.4866205383398812\n",
      "Objective value at epoch t=65 is 0.48661146050091075\n",
      "Objective value at epoch t=66 is 0.48660313367805497\n",
      "Objective value at epoch t=67 is 0.4865958894127972\n",
      "Objective value at epoch t=68 is 0.4865892492887805\n",
      "Objective value at epoch t=69 is 0.48658325579319495\n",
      "Objective value at epoch t=70 is 0.4865778466176322\n",
      "Objective value at epoch t=71 is 0.48657297898431706\n",
      "Objective value at epoch t=72 is 0.48656863647061027\n",
      "Objective value at epoch t=73 is 0.48656467683320576\n",
      "Objective value at epoch t=74 is 0.4865611311064459\n",
      "Objective value at epoch t=75 is 0.4865579846614131\n",
      "Objective value at epoch t=76 is 0.48655511694371506\n",
      "Objective value at epoch t=77 is 0.4865525410153711\n",
      "Objective value at epoch t=78 is 0.4865502134538847\n",
      "Objective value at epoch t=79 is 0.48654812159320737\n",
      "Objective value at epoch t=80 is 0.4865462412059925\n",
      "Objective value at epoch t=81 is 0.4865445488049172\n",
      "Objective value at epoch t=82 is 0.48654303009680333\n",
      "Objective value at epoch t=83 is 0.48654165651562353\n",
      "Objective value at epoch t=84 is 0.48654042439711487\n",
      "Objective value at epoch t=85 is 0.48653931326123445\n",
      "Objective value at epoch t=86 is 0.4865383119098269\n",
      "Objective value at epoch t=87 is 0.48653741249495785\n",
      "Objective value at epoch t=88 is 0.486536602117555\n",
      "Objective value at epoch t=89 is 0.486535873566745\n",
      "Objective value at epoch t=90 is 0.4865352175874274\n",
      "Objective value at epoch t=91 is 0.48653462672319714\n",
      "Objective value at epoch t=92 is 0.4865340952462877\n",
      "Objective value at epoch t=93 is 0.48653361667953005\n",
      "Objective value at epoch t=94 is 0.4865331861146148\n",
      "Objective value at epoch t=95 is 0.4865327990082772\n",
      "Objective value at epoch t=96 is 0.48653245029902836\n",
      "Objective value at epoch t=97 is 0.4865321362269455\n",
      "Objective value at epoch t=98 is 0.4865318539536877\n",
      "Objective value at epoch t=99 is 0.4865315995229544\n"
     ]
    }
   ],
   "source": [
    "lam = 1E-6\n",
    "stepsize = 0.1\n",
    "w, objvals_sgd = sgd(x_train, y_train, lam, stepsize)"
   ]
  },
  {
   "cell_type": "markdown",
   "metadata": {},
   "source": [
    "# 4. Compare GD with SGD\n",
    "\n",
    "Plot objective function values against epochs."
   ]
  },
  {
   "cell_type": "code",
   "execution_count": 14,
   "metadata": {},
   "outputs": [
    {
     "name": "stderr",
     "output_type": "stream",
     "text": [
      "<ipython-input-14-9b8d8f4cdfb5>:9: MatplotlibDeprecationWarning: Case-insensitive properties were deprecated in 3.3 and support will be removed two minor releases later\n",
      "  line0, = plt.plot(epochs_gd, objvals_gd, '--b', LineWidth=4)\n",
      "<ipython-input-14-9b8d8f4cdfb5>:10: MatplotlibDeprecationWarning: Case-insensitive properties were deprecated in 3.3 and support will be removed two minor releases later\n",
      "  line1, = plt.plot(epochs_sgd, objvals_sgd, '-r', LineWidth=2)\n",
      "<ipython-input-14-9b8d8f4cdfb5>:11: MatplotlibDeprecationWarning: Case-insensitive properties were deprecated in 3.3 and support will be removed two minor releases later\n",
      "  plt.xlabel('Epochs', FontSize=20)\n",
      "<ipython-input-14-9b8d8f4cdfb5>:12: MatplotlibDeprecationWarning: Case-insensitive properties were deprecated in 3.3 and support will be removed two minor releases later\n",
      "  plt.ylabel('Objective Value', FontSize=20)\n",
      "<ipython-input-14-9b8d8f4cdfb5>:13: MatplotlibDeprecationWarning: Case-insensitive properties were deprecated in 3.3 and support will be removed two minor releases later\n",
      "  plt.xticks(FontSize=16)\n",
      "<ipython-input-14-9b8d8f4cdfb5>:14: MatplotlibDeprecationWarning: Case-insensitive properties were deprecated in 3.3 and support will be removed two minor releases later\n",
      "  plt.yticks(FontSize=16)\n"
     ]
    },
    {
     "data": {
      "image/png": "[encoded data removed]",
      "text/plain": [
       "<Figure size 432x288 with 1 Axes>"
      ]
     },
     "metadata": {
      "needs_background": "light"
     },
     "output_type": "display_data"
    }
   ],
   "source": [
    "import matplotlib.pyplot as plt\n",
    "%matplotlib inline\n",
    "\n",
    "fig = plt.figure(figsize=(6, 4))\n",
    "\n",
    "epochs_gd = range(len(objvals_gd))\n",
    "epochs_sgd = range(len(objvals_sgd))\n",
    "\n",
    "line0, = plt.plot(epochs_gd, objvals_gd, '--b', LineWidth=4)\n",
    "line1, = plt.plot(epochs_sgd, objvals_sgd, '-r', LineWidth=2)\n",
    "plt.xlabel('Epochs', FontSize=20)\n",
    "plt.ylabel('Objective Value', FontSize=20)\n",
    "plt.xticks(FontSize=16)\n",
    "plt.yticks(FontSize=16)\n",
    "plt.legend([line0, line1], ['GD', 'SGD'], fontsize=20)\n",
    "plt.tight_layout()\n",
    "plt.show()\n",
    "fig.savefig('compare_gd_sgd.pdf', format='pdf', dpi=1200)"
   ]
  },
  {
   "cell_type": "markdown",
   "metadata": {},
   "source": [
    "# 5. Prediction"
   ]
  },
  {
   "cell_type": "code",
   "execution_count": 15,
   "metadata": {},
   "outputs": [],
   "source": [
    "# Predict class label\n",
    "# Inputs:\n",
    "#     w: d-by-1 matrix\n",
    "#     X: m-by-d matrix\n",
    "# Return:\n",
    "#     f: m-by-1 matrix, the predictions\n",
    "def predict(w, X):\n",
    "    xw = numpy.dot(X, w)\n",
    "    f = numpy.sign(xw)\n",
    "    return f"
   ]
  },
  {
   "cell_type": "code",
   "execution_count": 16,
   "metadata": {},
   "outputs": [
    {
     "name": "stdout",
     "output_type": "stream",
     "text": [
      "Training classification error is 0.2296875\n"
     ]
    }
   ],
   "source": [
    "# evaluate training error\n",
    "f_train = predict(w, x_train)\n",
    "diff = numpy.abs(f_train - y_train) / 2\n",
    "error_train = numpy.mean(diff)\n",
    "print('Training classification error is ' + str(error_train))"
   ]
  },
  {
   "cell_type": "code",
   "execution_count": 17,
   "metadata": {},
   "outputs": [
    {
     "name": "stdout",
     "output_type": "stream",
     "text": [
      "Test classification error is 0.1796875\n"
     ]
    }
   ],
   "source": [
    "# evaluate test error\n",
    "f_test = predict(w, x_test)\n",
    "diff = numpy.abs(f_test - y_test) / 2\n",
    "error_test = numpy.mean(diff)\n",
    "print('Test classification error is ' + str(error_test))"
   ]
  },
  {
   "cell_type": "markdown",
   "metadata": {},
   "source": [
    "# 6. Mini-batch SGD (fill the code)\n",
    "\n"
   ]
  },
  {
   "cell_type": "markdown",
   "metadata": {},
   "source": [
    "## 6.1. Compute the objective $Q_I$ and its gradient using a batch of samples\n",
    "\n",
    "Define $Q_I (w) = \\frac{1}{b} \\sum_{i \\in I} \\log \\Big( 1 + \\exp \\big( - y_i x_i^T w \\big) \\Big) + \\frac{\\lambda}{2} \\| w \\|_2^2 $, where $I$ is a set containing $b$ indices randomly drawn from $\\{ 1, \\cdots , n \\}$ without replacement.\n",
    "\n",
    "The stochastic gradient at $w$ is $g_I = \\frac{\\partial Q_I }{ \\partial w} = \\frac{1}{b} \\sum_{i \\in I} \\frac{- y_i x_i }{1 + \\exp ( y_i x_i^T w)} + \\lambda w$."
   ]
  },
  {
   "cell_type": "code",
   "execution_count": 18,
   "metadata": {},
   "outputs": [],
   "source": [
    "# Calculate the objective Q_I and the gradient of Q_I\n",
    "# Inputs:\n",
    "#     w: d-by-1 matrix\n",
    "#     xi: b-by-d matrix\n",
    "#     yi: b-by-1 matrix\n",
    "#     lam: scalar, the regularization parameter\n",
    "#     b: integer, the batch size\n",
    "# Return:\n",
    "#     obj: scalar, the objective Q_i\n",
    "#     g: d-by-1 matrix, gradient of Q_i\n",
    "def mb_stochastic_objective_gradient(w, xi, yi, lam, b):\n",
    "    d = xi.shape[0]\n",
    "    yx = yi * xi # 1-by-d matrix\n",
    "    yxw = float(numpy.dot(yx, w)) # scalar\n",
    "    \n",
    "    # calculate objective function Q_i\n",
    "    loss = numpy.log(1 + numpy.exp(-yxw)) # scalar\n",
    "    reg = (lam / 2) * numpy.sum(w * w) # scalar\n",
    "    obj = loss + reg\n",
    "    \n",
    "    # calculate mini-batch stochastic gradient\n",
    "    g_loss = -yx.T / (1 + numpy.exp(yxw)) # d-by-1 matrix\n",
    "    g = (g_loss / b) + lam * w # d-by-1 matrix\n",
    "    \n",
    "    return obj, g"
   ]
  },
  {
   "cell_type": "markdown",
   "metadata": {},
   "source": [
    "## 6.2. Implement mini-batch SGD\n",
    "\n",
    "Hints:\n",
    "1. In every epoch, randomly permute the $n$ samples (just like SGD).\n",
    "2. Each epoch has $\\frac{n}{b}$ iterations. In every iteration, use $b$ samples, and compute the gradient and objective using the ``mb_stochastic_objective_gradient`` function. In the next iteration, use the next $b$ samples, and so on.\n"
   ]
  },
  {
   "cell_type": "code",
   "execution_count": 19,
   "metadata": {},
   "outputs": [],
   "source": [
    "# Mini-Batch SGD for solving logistic regression\n",
    "# Inputs:\n",
    "#     x: n-by-d matrix\n",
    "#     y: n-by-1 matrix\n",
    "#     lam: scalar, the regularization parameter\n",
    "#     b: integer, the batch size\n",
    "#     stepsize: scalar\n",
    "#     max_epoch: integer, the maximal epochs\n",
    "#     w: d-by-1 matrix, initialization of w\n",
    "# Return:\n",
    "#     w: the solution\n",
    "#     objvals: record of each iteration's objective value\n",
    "def mb_sgd(x, y, lam, b, stepsize, max_epoch=100, w=None):\n",
    "    n, d = x.shape\n",
    "    objvals = numpy.zeros(max_epoch) # store the objective values\n",
    "    if w is None:\n",
    "        w = numpy.zeros((d, 1)) # zero initialization\n",
    "        \n",
    "    for t in range(max_epoch):\n",
    "        # randomly shuffle the samples\n",
    "        rand_indices = numpy.random.permutation(b)\n",
    "        x_rand = x[rand_indices, :]\n",
    "        y_rand = y[rand_indices, :]\n",
    "        \n",
    "        objval = 0 # accumulate the objective values\n",
    "        for i in range(b):\n",
    "            xi = x_rand[i, :] # 1-by-d matrix\n",
    "            yi = float(y_rand[i, :]) # scalar\n",
    "            obj, g = mb_stochastic_objective_gradient(w, xi, yi, lam, b)\n",
    "            objval += obj\n",
    "            w -= stepsize * g\n",
    "        \n",
    "        stepsize *= 0.9 # decrease step size\n",
    "        objval /= b\n",
    "        objvals[t] = objval\n",
    "        print('Objective value at epoch t=' + str(t) + ' is ' + str(objval))\n",
    "    \n",
    "    return w, objvals"
   ]
  },
  {
   "cell_type": "markdown",
   "metadata": {},
   "source": [
    "## 6.3. Run MB-SGD"
   ]
  },
  {
   "cell_type": "code",
   "execution_count": 29,
   "metadata": {},
   "outputs": [
    {
     "name": "stdout",
     "output_type": "stream",
     "text": [
      "Objective value at epoch t=0 is 0.6862005260279298\n",
      "Objective value at epoch t=1 is 0.657801857872846\n",
      "Objective value at epoch t=2 is 0.6342863224721205\n",
      "Objective value at epoch t=3 is 0.6146629318510141\n",
      "Objective value at epoch t=4 is 0.5981824402074322\n",
      "Objective value at epoch t=5 is 0.5841787208892225\n",
      "Objective value at epoch t=6 is 0.5722235090386041\n",
      "Objective value at epoch t=7 is 0.5619502117820225\n",
      "Objective value at epoch t=8 is 0.5530752266249277\n",
      "Objective value at epoch t=9 is 0.545371430340392\n",
      "Objective value at epoch t=10 is 0.5386658208967849\n",
      "Objective value at epoch t=11 is 0.5328063600791679\n",
      "Objective value at epoch t=12 is 0.5276690318974437\n",
      "Objective value at epoch t=13 is 0.5231545268302494\n",
      "Objective value at epoch t=14 is 0.5191719876668008\n",
      "Objective value at epoch t=15 is 0.5156542837429252\n",
      "Objective value at epoch t=16 is 0.5125380742948866\n",
      "Objective value at epoch t=17 is 0.5097779852355369\n",
      "Objective value at epoch t=18 is 0.5073245465964031\n",
      "Objective value at epoch t=19 is 0.5051420411143259\n",
      "Objective value at epoch t=20 is 0.5031995962962551\n",
      "Objective value at epoch t=21 is 0.5014682475788214\n",
      "Objective value at epoch t=22 is 0.4999229409525594\n",
      "Objective value at epoch t=23 is 0.4985426408929169\n",
      "Objective value at epoch t=24 is 0.49730889274606016\n",
      "Objective value at epoch t=25 is 0.4962050731405201\n",
      "Objective value at epoch t=26 is 0.49521734948454427\n",
      "Objective value at epoch t=27 is 0.4943324446043483\n",
      "Objective value at epoch t=28 is 0.49353958523322167\n",
      "Objective value at epoch t=29 is 0.492828993510783\n",
      "Objective value at epoch t=30 is 0.4921917665452982\n",
      "Objective value at epoch t=31 is 0.49162005345254517\n",
      "Objective value at epoch t=32 is 0.49110700326896517\n",
      "Objective value at epoch t=33 is 0.4906465043242388\n",
      "Objective value at epoch t=34 is 0.490233003311463\n",
      "Objective value at epoch t=35 is 0.48986165275593785\n",
      "Objective value at epoch t=36 is 0.4895280783736097\n",
      "Objective value at epoch t=37 is 0.48922836122608526\n",
      "Objective value at epoch t=38 is 0.4889590511171365\n",
      "Objective value at epoch t=39 is 0.48871698173310685\n",
      "Objective value at epoch t=40 is 0.48849940196054087\n",
      "Objective value at epoch t=41 is 0.488303797367873\n",
      "Objective value at epoch t=42 is 0.4881279389706826\n",
      "Objective value at epoch t=43 is 0.4879698113274852\n",
      "Objective value at epoch t=44 is 0.48782761046257045\n",
      "Objective value at epoch t=45 is 0.4876997198793478\n",
      "Objective value at epoch t=46 is 0.48758469315072367\n",
      "Objective value at epoch t=47 is 0.4874812299915636\n",
      "Objective value at epoch t=48 is 0.4873881631959059\n",
      "Objective value at epoch t=49 is 0.4873044437612458\n",
      "Objective value at epoch t=50 is 0.4872291291643907\n",
      "Objective value at epoch t=51 is 0.48716137300267837\n",
      "Objective value at epoch t=52 is 0.48710041419098893\n",
      "Objective value at epoch t=53 is 0.487045568280615\n",
      "Objective value at epoch t=54 is 0.48699622103134527\n",
      "Objective value at epoch t=55 is 0.4869518192837465\n",
      "Objective value at epoch t=56 is 0.4869118671077521\n",
      "Objective value at epoch t=57 is 0.4868759169883036\n",
      "Objective value at epoch t=58 is 0.48684356805725804\n",
      "Objective value at epoch t=59 is 0.4868144593231093\n",
      "Objective value at epoch t=60 is 0.48678826510689055\n",
      "Objective value at epoch t=61 is 0.4867646934436074\n",
      "Objective value at epoch t=62 is 0.48674348169063975\n",
      "Objective value at epoch t=63 is 0.4867243930708567\n",
      "Objective value at epoch t=64 is 0.4867072150407884\n",
      "Objective value at epoch t=65 is 0.4866917562401635\n",
      "Objective value at epoch t=66 is 0.48667784438347617\n",
      "Objective value at epoch t=67 is 0.48666532459565415\n",
      "Objective value at epoch t=68 is 0.48665405751288243\n",
      "Objective value at epoch t=69 is 0.4866439177456148\n",
      "Objective value at epoch t=70 is 0.48663479241479096\n",
      "Objective value at epoch t=71 is 0.48662658003991077\n",
      "Objective value at epoch t=72 is 0.48661918920520786\n",
      "Objective value at epoch t=73 is 0.4866125377156041\n",
      "Objective value at epoch t=74 is 0.48660655156184784\n",
      "Objective value at epoch t=75 is 0.4866011642047003\n",
      "Objective value at epoch t=76 is 0.4865963157110714\n",
      "Objective value at epoch t=77 is 0.4865919521853011\n",
      "Objective value at epoch t=78 is 0.4865880250917167\n",
      "Objective value at epoch t=79 is 0.4865844907787837\n",
      "Objective value at epoch t=80 is 0.4865813099619817\n",
      "Objective value at epoch t=81 is 0.48657844726913674\n",
      "Objective value at epoch t=82 is 0.48657587088482906\n",
      "Objective value at epoch t=83 is 0.48657355216597276\n",
      "Objective value at epoch t=84 is 0.48657146534724777\n",
      "Objective value at epoch t=85 is 0.48656958723270866\n",
      "Objective value at epoch t=86 is 0.48656789694152097\n",
      "Objective value at epoch t=87 is 0.48656637569552175\n",
      "Objective value at epoch t=88 is 0.4865650065835323\n",
      "Objective value at epoch t=89 is 0.48656377439436355\n",
      "Objective value at epoch t=90 is 0.4865626654273279\n",
      "Objective value at epoch t=91 is 0.4865616673643175\n",
      "Objective value at epoch t=92 is 0.48656076911261553\n",
      "Objective value at epoch t=93 is 0.48655996069048707\n",
      "Objective value at epoch t=94 is 0.48655923311273247\n",
      "Objective value at epoch t=95 is 0.4865585782944932\n",
      "Objective value at epoch t=96 is 0.4865579889611115\n",
      "Objective value at epoch t=97 is 0.48655745856227345\n",
      "Objective value at epoch t=98 is 0.4865569812047513\n",
      "Objective value at epoch t=99 is 0.4865565515838133\n"
     ]
    }
   ],
   "source": [
    "# MB-SGD with batch size b=8\n",
    "lam = 1E-6 # do not change\n",
    "b = 8 # do not change\n",
    "stepsize = 0.0792 # you must tune this parameter\n",
    "\n",
    "w, objvals_mbsgd8 = mb_sgd(x_train, y_train, lam, b, stepsize)"
   ]
  },
  {
   "cell_type": "code",
   "execution_count": 38,
   "metadata": {},
   "outputs": [
    {
     "name": "stdout",
     "output_type": "stream",
     "text": [
      "Objective value at epoch t=0 is 0.6700303623700385\n",
      "Objective value at epoch t=1 is 0.6258116536463811\n",
      "Objective value at epoch t=2 is 0.5955604370957157\n",
      "Objective value at epoch t=3 is 0.5738731541662704\n",
      "Objective value at epoch t=4 is 0.5579430507717881\n",
      "Objective value at epoch t=5 is 0.545853174415179\n",
      "Objective value at epoch t=6 is 0.5363805798064619\n",
      "Objective value at epoch t=7 is 0.5288343413906172\n",
      "Objective value at epoch t=8 is 0.5227211218625855\n",
      "Objective value at epoch t=9 is 0.5177388102472562\n",
      "Objective value at epoch t=10 is 0.5135735366267454\n",
      "Objective value at epoch t=11 is 0.5100765766894417\n",
      "Objective value at epoch t=12 is 0.5071224364725546\n",
      "Objective value at epoch t=13 is 0.5046043434093979\n",
      "Objective value at epoch t=14 is 0.502441712143959\n",
      "Objective value at epoch t=15 is 0.500574480187027\n",
      "Objective value at epoch t=16 is 0.49895553219737143\n",
      "Objective value at epoch t=17 is 0.49755192045562524\n",
      "Objective value at epoch t=18 is 0.49632039682437346\n",
      "Objective value at epoch t=19 is 0.4952384780025922\n",
      "Objective value at epoch t=20 is 0.4942860395648189\n",
      "Objective value at epoch t=21 is 0.4934452053799102\n",
      "Objective value at epoch t=22 is 0.49270323077295763\n",
      "Objective value at epoch t=23 is 0.49204673901791834\n",
      "Objective value at epoch t=24 is 0.49146567989528017\n",
      "Objective value at epoch t=25 is 0.4909487425572213\n",
      "Objective value at epoch t=26 is 0.49048881535649247\n",
      "Objective value at epoch t=27 is 0.4900788226184823\n",
      "Objective value at epoch t=28 is 0.4897134063724094\n",
      "Objective value at epoch t=29 is 0.4893873504998816\n",
      "Objective value at epoch t=30 is 0.48909611565349176\n",
      "Objective value at epoch t=31 is 0.48883580177321795\n",
      "Objective value at epoch t=32 is 0.48860287002083463\n",
      "Objective value at epoch t=33 is 0.4883943986635823\n",
      "Objective value at epoch t=34 is 0.48820767441739904\n",
      "Objective value at epoch t=35 is 0.4880403115627574\n",
      "Objective value at epoch t=36 is 0.487890265497468\n",
      "Objective value at epoch t=37 is 0.48775577509708723\n",
      "Objective value at epoch t=38 is 0.48763509334583405\n",
      "Objective value at epoch t=39 is 0.48752677041849873\n",
      "Objective value at epoch t=40 is 0.48742953243795023\n",
      "Objective value at epoch t=41 is 0.4873422297527309\n",
      "Objective value at epoch t=42 is 0.4872638136522698\n",
      "Objective value at epoch t=43 is 0.48719337543288765\n",
      "Objective value at epoch t=44 is 0.4871300836737405\n",
      "Objective value at epoch t=45 is 0.4870732144371746\n",
      "Objective value at epoch t=46 is 0.4870220969666459\n",
      "Objective value at epoch t=47 is 0.48697614574818154\n",
      "Objective value at epoch t=48 is 0.48693483456752873\n",
      "Objective value at epoch t=49 is 0.4868976915179169\n",
      "Objective value at epoch t=50 is 0.4868642892423626\n",
      "Objective value at epoch t=51 is 0.4868342551355827\n",
      "Objective value at epoch t=52 is 0.4868072434534321\n",
      "Objective value at epoch t=53 is 0.4867829479026219\n",
      "Objective value at epoch t=54 is 0.4867610953159386\n",
      "Objective value at epoch t=55 is 0.48674143836716727\n",
      "Objective value at epoch t=56 is 0.48672375573482485\n",
      "Objective value at epoch t=57 is 0.48670784514801957\n",
      "Objective value at epoch t=58 is 0.48669353422185424\n",
      "Objective value at epoch t=59 is 0.4866806580476696\n",
      "Objective value at epoch t=60 is 0.48666907210115334\n",
      "Objective value at epoch t=61 is 0.4866586475822771\n",
      "Objective value at epoch t=62 is 0.48664926815091375\n",
      "Objective value at epoch t=63 is 0.4866408294109422\n",
      "Objective value at epoch t=64 is 0.48663323590886726\n",
      "Objective value at epoch t=65 is 0.4866264026254505\n",
      "Objective value at epoch t=66 is 0.48662025424122013\n",
      "Objective value at epoch t=67 is 0.48661472084755686\n",
      "Objective value at epoch t=68 is 0.48660974194795664\n",
      "Objective value at epoch t=69 is 0.4866052612930111\n",
      "Objective value at epoch t=70 is 0.48660122867326777\n",
      "Objective value at epoch t=71 is 0.48659760027676285\n",
      "Objective value at epoch t=72 is 0.486594334899579\n",
      "Objective value at epoch t=73 is 0.48659139597469\n",
      "Objective value at epoch t=74 is 0.48658875139866126\n",
      "Objective value at epoch t=75 is 0.4865863711672022\n",
      "Objective value at epoch t=76 is 0.4865842294038635\n",
      "Objective value at epoch t=77 is 0.486582301784148\n",
      "Objective value at epoch t=78 is 0.48658056707533154\n",
      "Objective value at epoch t=79 is 0.48657900576357355\n",
      "Objective value at epoch t=80 is 0.48657760074095996\n",
      "Objective value at epoch t=81 is 0.4865763362204127\n",
      "Objective value at epoch t=82 is 0.4865751981211293\n",
      "Objective value at epoch t=83 is 0.48657417396070374\n",
      "Objective value at epoch t=84 is 0.48657325221098324\n",
      "Objective value at epoch t=85 is 0.48657242258336614\n",
      "Objective value at epoch t=86 is 0.4865716760470907\n",
      "Objective value at epoch t=87 is 0.4865710041280549\n",
      "Objective value at epoch t=88 is 0.4865703994695303\n",
      "Objective value at epoch t=89 is 0.486569855203491\n",
      "Objective value at epoch t=90 is 0.48656936537910783\n",
      "Objective value at epoch t=91 is 0.4865689245769185\n",
      "Objective value at epoch t=92 is 0.4865685278357564\n",
      "Objective value at epoch t=93 is 0.48656817076652475\n",
      "Objective value at epoch t=94 is 0.48656784943164094\n",
      "Objective value at epoch t=95 is 0.4865675602110146\n",
      "Objective value at epoch t=96 is 0.4865672999412956\n",
      "Objective value at epoch t=97 is 0.48656706567023805\n",
      "Objective value at epoch t=98 is 0.4865668548386449\n",
      "Objective value at epoch t=99 is 0.48656666509869223\n"
     ]
    }
   ],
   "source": [
    "# MB-SGD with batch size b=64\n",
    "lam = 1E-6 # do not change\n",
    "b = 64 # do not change\n",
    "stepsize = 0.325 # you must tune this parameter\n",
    "\n",
    "w, objvals_mbsgd64 = mb_sgd(x_train, y_train, lam, b, stepsize)"
   ]
  },
  {
   "cell_type": "markdown",
   "metadata": {},
   "source": [
    "# 7. Plot and compare GD, SGD, and MB-SGD"
   ]
  },
  {
   "cell_type": "markdown",
   "metadata": {},
   "source": [
    "You are required to compare the following algorithms:\n",
    "\n",
    "- Gradient descent (GD)\n",
    "\n",
    "- SGD\n",
    "\n",
    "- MB-SGD with b=8\n",
    "\n",
    "- MB-SGD with b=64\n",
    "\n",
    "Follow the code in Section 4 to plot ```objective function value``` against ```epochs```. There should be four curves in the plot; each curve corresponds to one algorithm."
   ]
  },
  {
   "cell_type": "markdown",
   "metadata": {},
   "source": [
    "Hint: Logistic regression with $\\ell_2$-norm regularization is a strongly convex optimization problem. All the algorithms will converge to the same solution. **In the end, the ``objective function value`` of the 4 algorithms will be the same. If not the same, your implementation must be wrong. Do NOT submit wrong code and wrong result!**"
   ]
  },
  {
   "cell_type": "code",
   "execution_count": 39,
   "metadata": {},
   "outputs": [
    {
     "name": "stderr",
     "output_type": "stream",
     "text": [
      "<ipython-input-39-9c32065997b7>:12: MatplotlibDeprecationWarning: Case-insensitive properties were deprecated in 3.3 and support will be removed two minor releases later\n",
      "  line0, = plt.plot(epochs_gd, objvals_gd, '--b', LineWidth=2)\n",
      "<ipython-input-39-9c32065997b7>:13: MatplotlibDeprecationWarning: Case-insensitive properties were deprecated in 3.3 and support will be removed two minor releases later\n",
      "  line1, = plt.plot(epochs_sgd, objvals_sgd, '-r', LineWidth=2)\n",
      "<ipython-input-39-9c32065997b7>:14: MatplotlibDeprecationWarning: Case-insensitive properties were deprecated in 3.3 and support will be removed two minor releases later\n",
      "  line2, = plt.plot(epochs_mbsgd8, objvals_mbsgd8, '-g', LineWidth=2)\n",
      "<ipython-input-39-9c32065997b7>:15: MatplotlibDeprecationWarning: Case-insensitive properties were deprecated in 3.3 and support will be removed two minor releases later\n",
      "  line3, = plt.plot(epochs_mbsgd8, objvals_mbsgd64, '--y', LineWidth=2)\n",
      "<ipython-input-39-9c32065997b7>:17: MatplotlibDeprecationWarning: Case-insensitive properties were deprecated in 3.3 and support will be removed two minor releases later\n",
      "  plt.xlabel('Epochs', FontSize=20)\n",
      "<ipython-input-39-9c32065997b7>:18: MatplotlibDeprecationWarning: Case-insensitive properties were deprecated in 3.3 and support will be removed two minor releases later\n",
      "  plt.ylabel('Objective Value', FontSize=20)\n",
      "<ipython-input-39-9c32065997b7>:19: MatplotlibDeprecationWarning: Case-insensitive properties were deprecated in 3.3 and support will be removed two minor releases later\n",
      "  plt.xticks(FontSize=16)\n",
      "<ipython-input-39-9c32065997b7>:20: MatplotlibDeprecationWarning: Case-insensitive properties were deprecated in 3.3 and support will be removed two minor releases later\n",
      "  plt.yticks(FontSize=16)\n"
     ]
    },
    {
     "data": {
      "image/png": "[encoded data removed]",
      "text/plain": [
       "<Figure size 720x576 with 1 Axes>"
      ]
     },
     "metadata": {
      "needs_background": "light"
     },
     "output_type": "display_data"
    }
   ],
   "source": [
    "# plot the 4 curves:\n",
    "import matplotlib.pyplot as plt\n",
    "%matplotlib inline\n",
    "\n",
    "fig = plt.figure(figsize=(10, 8))\n",
    "\n",
    "epochs_gd = range(len(objvals_gd))\n",
    "epochs_sgd = range(len(objvals_sgd))\n",
    "epochs_mbsgd8 = range(len(objvals_mbsgd8))\n",
    "epochs_mbsgd64 = range(len(objvals_mbsgd64))\n",
    "\n",
    "line0, = plt.plot(epochs_gd, objvals_gd, '--b', LineWidth=2)\n",
    "line1, = plt.plot(epochs_sgd, objvals_sgd, '-r', LineWidth=2)\n",
    "line2, = plt.plot(epochs_mbsgd8, objvals_mbsgd8, '-g', LineWidth=2)\n",
    "line3, = plt.plot(epochs_mbsgd8, objvals_mbsgd64, '--y', LineWidth=2)\n",
    "\n",
    "plt.xlabel('Epochs', FontSize=20)\n",
    "plt.ylabel('Objective Value', FontSize=20)\n",
    "plt.xticks(FontSize=16)\n",
    "plt.yticks(FontSize=16)\n",
    "plt.legend([line0, line1, line2, line3], ['GD', 'SGD', 'MBSGD8', 'MBSGD64'], fontsize=20)\n",
    "plt.tight_layout()\n",
    "plt.show()\n",
    "fig.savefig('compare_gd_sgd_mbsgd.pdf', format='pdf', dpi=1200)"
   ]
  },
  {
   "cell_type": "markdown",
   "metadata": {},
   "source": []
  }
 ],
 "metadata": {
  "kernelspec": {
   "display_name": "Python 3",
   "language": "python",
   "name": "python3"
  },
  "language_info": {
   "codemirror_mode": {
    "name": "ipython",
    "version": 3
   },
   "file_extension": ".py",
   "mimetype": "text/x-python",
   "name": "python",
   "nbconvert_exporter": "python",
   "pygments_lexer": "ipython3",
   "version": "3.8.1"
  }
 },
 "nbformat": 4,
 "nbformat_minor": 2
}
