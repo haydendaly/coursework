{
 "cells": [
  {
   "cell_type": "markdown",
   "metadata": {},
   "source": [
    "# HM2: Numerical Optimization for Logistic Regression.\n",
    "\n",
    "### Name: Hayden Daly\n"
   ]
  },
  {
   "cell_type": "markdown",
   "metadata": {},
   "source": [
    "## 0. You will do the following:\n",
    "\n",
    "1. Read the lecture note: [click here](https://github.com/wangshusen/DeepLearning/blob/master/LectureNotes/Logistic/paper/logistic.pdf)\n",
    "\n",
    "2. Read, complete, and run my code.\n",
    "\n",
    "3. **Implement mini-batch SGD** and evaluate the performance.\n",
    "\n",
    "4. Convert the .IPYNB file to .HTML file.\n",
    "\n",
    "    * The HTML file must contain **the code** and **the output after execution**.\n",
    "    \n",
    "    * Missing **the output after execution** will not be graded.\n",
    "    \n",
    "5. Upload this .HTML file to your Google Drive, Dropbox, or your Github repo.  (If you submit the file to Google Drive or Dropbox, you must make the file \"open-access\". The delay caused by \"deny of access\" may result in late penalty.)\n",
    "\n",
    "6. Submit the link to this .HTML file to Canvas.\n",
    "\n",
    "    * Example: https://github.com/wangshusen/CS583-2020S/blob/master/homework/HM2/HM2.html\n",
    "\n",
    "\n",
    "## Grading criteria:\n",
    "\n",
    "1. When computing the ```gradient``` and ```objective function value``` using a batch of samples, use **matrix-vector multiplication** rather than a FOR LOOP of **vector-vector multiplications**.\n",
    "\n",
    "2. Plot ```objective function value``` against ```epochs```. In the plot, compare GD, SGD, and MB-SGD (with $b=8$ and $b=64$). The plot must look reasonable."
   ]
  },
  {
   "cell_type": "code",
   "execution_count": 1,
   "metadata": {},
   "outputs": [
    {
     "data": {
      "text/plain": [
       "'3.8.1 (default, Jan 28 2020, 21:02:09) \\n[Clang 10.0.1 (clang-1001.0.46.4)]'"
      ]
     },
     "execution_count": 1,
     "metadata": {},
     "output_type": "execute_result"
    }
   ],
   "source": [
    "import sys\n",
    "sys.version"
   ]
  },
  {
   "cell_type": "markdown",
   "metadata": {},
   "source": [
    "# 1. Data processing\n",
    "\n",
    "- Download the Diabete dataset from https://www.csie.ntu.edu.tw/~cjlin/libsvmtools/datasets/binary/diabetes\n",
    "- Load the data using sklearn.\n",
    "- Preprocess the data."
   ]
  },
  {
   "cell_type": "markdown",
   "metadata": {},
   "source": [
    "## 1.1. Load the data"
   ]
  },
  {
   "cell_type": "code",
   "execution_count": 2,
   "metadata": {},
   "outputs": [
    {
     "name": "stdout",
     "output_type": "stream",
     "text": [
      "Shape of x: (768, 8)\n",
      "Shape of y: (768,)\n"
     ]
    }
   ],
   "source": [
    "from sklearn import datasets\n",
    "import numpy\n",
    "\n",
    "x_sparse, y = datasets.load_svmlight_file('diabetes')\n",
    "x = x_sparse.todense()\n",
    "\n",
    "print('Shape of x: ' + str(x.shape))\n",
    "print('Shape of y: ' + str(y.shape))"
   ]
  },
  {
   "cell_type": "markdown",
   "metadata": {},
   "source": [
    "## 1.2. Partition to training and test sets"
   ]
  },
  {
   "cell_type": "code",
   "execution_count": 3,
   "metadata": {},
   "outputs": [
    {
     "name": "stdout",
     "output_type": "stream",
     "text": [
      "Shape of x_train: (640, 8)\n",
      "Shape of x_test: (128, 8)\n",
      "Shape of y_train: (640, 1)\n",
      "Shape of y_test: (128, 1)\n"
     ]
    }
   ],
   "source": [
    "# partition the data to training and test sets\n",
    "n = x.shape[0]\n",
    "n_train = 640\n",
    "n_test = n - n_train\n",
    "\n",
    "rand_indices = numpy.random.permutation(n)\n",
    "train_indices = rand_indices[0:n_train]\n",
    "test_indices = rand_indices[n_train:n]\n",
    "\n",
    "x_train = x[train_indices, :]\n",
    "x_test = x[test_indices, :]\n",
    "y_train = y[train_indices].reshape(n_train, 1)\n",
    "y_test = y[test_indices].reshape(n_test, 1)\n",
    "\n",
    "print('Shape of x_train: ' + str(x_train.shape))\n",
    "print('Shape of x_test: ' + str(x_test.shape))\n",
    "print('Shape of y_train: ' + str(y_train.shape))\n",
    "print('Shape of y_test: ' + str(y_test.shape))"
   ]
  },
  {
   "cell_type": "markdown",
   "metadata": {},
   "source": [
    "## 1.3. Feature scaling"
   ]
  },
  {
   "cell_type": "markdown",
   "metadata": {},
   "source": [
    "Use the standardization to trainsform both training and test features"
   ]
  },
  {
   "cell_type": "code",
   "execution_count": 4,
   "metadata": {},
   "outputs": [
    {
     "name": "stdout",
     "output_type": "stream",
     "text": [
      "test mean = \n",
      "[[ 0.07037971 -0.10461233  0.03171692 -0.02792899 -0.04772538 -0.16347163\n",
      "  -0.03076192  0.03156698]]\n",
      "test std = \n",
      "[[0.86103261 0.96198501 0.99413693 0.97749953 0.9040083  0.95026443\n",
      "  1.06653049 1.06027876]]\n"
     ]
    }
   ],
   "source": [
    "# Standardization\n",
    "import numpy\n",
    "\n",
    "# calculate mu and sig using the training set\n",
    "d = x_train.shape[1]\n",
    "mu = numpy.mean(x_train, axis=0).reshape(1, d)\n",
    "sig = numpy.std(x_train, axis=0).reshape(1, d)\n",
    "\n",
    "# transform the training features\n",
    "x_train = (x_train - mu) / (sig + 1E-6)\n",
    "\n",
    "# transform the test features\n",
    "x_test = (x_test - mu) / (sig + 1E-6)\n",
    "\n",
    "print('test mean = ')\n",
    "print(numpy.mean(x_test, axis=0))\n",
    "\n",
    "print('test std = ')\n",
    "print(numpy.std(x_test, axis=0))"
   ]
  },
  {
   "cell_type": "markdown",
   "metadata": {},
   "source": [
    "## 1.4. Add a dimension of all ones"
   ]
  },
  {
   "cell_type": "code",
   "execution_count": 5,
   "metadata": {},
   "outputs": [
    {
     "name": "stdout",
     "output_type": "stream",
     "text": [
      "Shape of x_train: (640, 9)\n",
      "Shape of x_test: (128, 9)\n"
     ]
    }
   ],
   "source": [
    "n_train, d = x_train.shape\n",
    "x_train = numpy.concatenate((x_train, numpy.ones((n_train, 1))), axis=1)\n",
    "\n",
    "n_test, d = x_test.shape\n",
    "x_test = numpy.concatenate((x_test, numpy.ones((n_test, 1))), axis=1)\n",
    "\n",
    "print('Shape of x_train: ' + str(x_train.shape))\n",
    "print('Shape of x_test: ' + str(x_test.shape))"
   ]
  },
  {
   "cell_type": "markdown",
   "metadata": {},
   "source": [
    "# 2. Logistic regression model\n",
    "\n",
    "The objective function is $Q (w; X, y) = \\frac{1}{n} \\sum_{i=1}^n \\log \\Big( 1 + \\exp \\big( - y_i x_i^T w \\big) \\Big) + \\frac{\\lambda}{2} \\| w \\|_2^2 $."
   ]
  },
  {
   "cell_type": "code",
   "execution_count": 6,
   "metadata": {},
   "outputs": [],
   "source": [
    "# Calculate the objective function value\n",
    "# Inputs:\n",
    "#     w: d-by-1 matrix\n",
    "#     x: n-by-d matrix\n",
    "#     y: n-by-1 matrix\n",
    "#     lam: scalar, the regularization parameter\n",
    "# Return:\n",
    "#     objective function value (scalar)\n",
    "def objective(w, x, y, lam):\n",
    "    n, d = x.shape\n",
    "    yx = numpy.multiply(y, x) # n-by-d matrix\n",
    "    yxw = numpy.dot(yx, w) # n-by-1 matrix\n",
    "    vec1 = numpy.exp(-yxw) # n-by-1 matrix\n",
    "    vec2 = numpy.log(1 + vec1) # n-by-1 matrix\n",
    "    loss = numpy.mean(vec2) # scalar\n",
    "    reg = lam / 2 * numpy.sum(w * w) # scalar\n",
    "    return loss + reg\n",
    "    "
   ]
  },
  {
   "cell_type": "code",
   "execution_count": 7,
   "metadata": {},
   "outputs": [
    {
     "name": "stdout",
     "output_type": "stream",
     "text": [
      "Initial objective function value = 0.6931471805599453\n"
     ]
    }
   ],
   "source": [
    "# initialize w\n",
    "d = x_train.shape[1]\n",
    "w = numpy.zeros((d, 1))\n",
    "\n",
    "# evaluate the objective function value at w\n",
    "lam = 1E-6\n",
    "objval0 = objective(w, x_train, y_train, lam)\n",
    "print('Initial objective function value = ' + str(objval0))"
   ]
  },
  {
   "cell_type": "markdown",
   "metadata": {},
   "source": [
    "# 3. Numerical optimization"
   ]
  },
  {
   "cell_type": "markdown",
   "metadata": {},
   "source": [
    "## 3.1. Gradient descent\n"
   ]
  },
  {
   "cell_type": "markdown",
   "metadata": {},
   "source": [
    "The gradient at $w$ is $g = - \\frac{1}{n} \\sum_{i=1}^n \\frac{y_i x_i }{1 + \\exp ( y_i x_i^T w)} + \\lambda w$"
   ]
  },
  {
   "cell_type": "code",
   "execution_count": 8,
   "metadata": {},
   "outputs": [],
   "source": [
    "# Calculate the gradient\n",
    "# Inputs:\n",
    "#     w: d-by-1 matrix\n",
    "#     x: n-by-d matrix\n",
    "#     y: n-by-1 matrix\n",
    "#     lam: scalar, the regularization parameter\n",
    "# Return:\n",
    "#     g: g: d-by-1 matrix, full gradient\n",
    "def gradient(w, x, y, lam):\n",
    "    n, d = x.shape\n",
    "    yx = numpy.multiply(y, x) # n-by-d matrix\n",
    "    yxw = numpy.dot(yx, w) # n-by-1 matrix\n",
    "    vec1 = numpy.exp(yxw) # n-by-1 matrix\n",
    "    vec2 = numpy.divide(yx, 1+vec1) # n-by-d matrix\n",
    "    vec3 = -numpy.mean(vec2, axis=0).reshape(d, 1) # d-by-1 matrix\n",
    "    g = vec3 + lam * w\n",
    "    return g"
   ]
  },
  {
   "cell_type": "code",
   "execution_count": 9,
   "metadata": {},
   "outputs": [],
   "source": [
    "# Gradient descent for solving logistic regression\n",
    "# Inputs:\n",
    "#     x: n-by-d matrix\n",
    "#     y: n-by-1 matrix\n",
    "#     lam: scalar, the regularization parameter\n",
    "#     stepsize: scalar\n",
    "#     max_iter: integer, the maximal iterations\n",
    "#     w: d-by-1 matrix, initialization of w\n",
    "# Return:\n",
    "#     w: d-by-1 matrix, the solution\n",
    "#     objvals: a record of each iteration's objective value\n",
    "def grad_descent(x, y, lam, stepsize, max_iter=100, w=None):\n",
    "    n, d = x.shape\n",
    "    objvals = numpy.zeros(max_iter) # store the objective values\n",
    "    if w is None:\n",
    "        w = numpy.zeros((d, 1)) # zero initialization\n",
    "    \n",
    "    for t in range(max_iter):\n",
    "        objval = objective(w, x, y, lam)\n",
    "        objvals[t] = objval\n",
    "        print('Objective value at t=' + str(t) + ' is ' + str(objval))\n",
    "        g = gradient(w, x, y, lam)\n",
    "        w -= stepsize * g\n",
    "    \n",
    "    return w, objvals"
   ]
  },
  {
   "cell_type": "markdown",
   "metadata": {},
   "source": [
    "Run gradient descent."
   ]
  },
  {
   "cell_type": "code",
   "execution_count": 10,
   "metadata": {},
   "outputs": [
    {
     "name": "stdout",
     "output_type": "stream",
     "text": [
      "Objective value at t=0 is 0.6931471805599453\n",
      "Objective value at t=1 is 0.5887563148162827\n",
      "Objective value at t=2 is 0.5485184921339815\n",
      "Objective value at t=3 is 0.5275790762207705\n",
      "Objective value at t=4 is 0.5147606066481752\n",
      "Objective value at t=5 is 0.5061766851011429\n",
      "Objective value at t=6 is 0.50010495750315\n",
      "Objective value at t=7 is 0.4956513508815465\n",
      "Objective value at t=8 is 0.4922991551056806\n",
      "Objective value at t=9 is 0.48972646274913467\n",
      "Objective value at t=10 is 0.48772160988692886\n",
      "Objective value at t=11 is 0.48613974575186714\n",
      "Objective value at t=12 is 0.4848786601882348\n",
      "Objective value at t=13 is 0.48386445971968467\n",
      "Objective value at t=14 is 0.48304265291844567\n",
      "Objective value at t=15 is 0.48237238286076645\n",
      "Objective value at t=16 is 0.4818225774079754\n",
      "Objective value at t=17 is 0.48136931286630597\n",
      "Objective value at t=18 is 0.4809939692569367\n",
      "Objective value at t=19 is 0.48068191539279354\n",
      "Objective value at t=20 is 0.48042155631094663\n",
      "Objective value at t=21 is 0.48020363322519066\n",
      "Objective value at t=22 is 0.4800207023865917\n",
      "Objective value at t=23 is 0.47986674258356304\n",
      "Objective value at t=24 is 0.4797368563801355\n",
      "Objective value at t=25 is 0.47962704049695\n",
      "Objective value at t=26 is 0.4795340077659873\n",
      "Objective value at t=27 is 0.47945504795236604\n",
      "Objective value at t=28 is 0.4793879181471309\n",
      "Objective value at t=29 is 0.47933075585725204\n",
      "Objective value at t=30 is 0.4792820096594983\n",
      "Objective value at t=31 is 0.47924038354891474\n",
      "Objective value at t=32 is 0.47920479204009037\n",
      "Objective value at t=33 is 0.47917432376635793\n",
      "Objective value at t=34 is 0.4791482118354804\n",
      "Objective value at t=35 is 0.4791258095873378\n",
      "Objective value at t=36 is 0.47910657069310153\n",
      "Objective value at t=37 is 0.4790900327603996\n",
      "Objective value at t=38 is 0.4790758037824311\n",
      "Objective value at t=39 is 0.4790635509035896\n",
      "Objective value at t=40 is 0.479052991079258\n",
      "Objective value at t=41 is 0.4790438832900034\n",
      "Objective value at t=42 is 0.47903602203560625\n",
      "Objective value at t=43 is 0.47902923188614416\n",
      "Objective value at t=44 is 0.47902336290866104\n",
      "Objective value at t=45 is 0.47901828682107395\n",
      "Objective value at t=46 is 0.4790138937516349\n",
      "Objective value at t=47 is 0.47901008950381946\n",
      "Objective value at t=48 is 0.4790067932440074\n",
      "Objective value at t=49 is 0.47900393554356935\n",
      "Objective value at t=50 is 0.4790014567186113\n",
      "Objective value at t=51 is 0.4789993054201819\n",
      "Objective value at t=52 is 0.47899743743559087\n",
      "Objective value at t=53 is 0.478995814667961\n",
      "Objective value at t=54 is 0.4789944042664906\n",
      "Objective value at t=55 is 0.4789931778843384\n",
      "Objective value at t=56 is 0.47899211104472755\n",
      "Objective value at t=57 is 0.4789911825989388\n",
      "Objective value at t=58 is 0.478990374262421\n",
      "Objective value at t=59 is 0.478989670217393\n",
      "Objective value at t=60 is 0.4789890567721018\n",
      "Objective value at t=61 is 0.4789885220684105\n",
      "Objective value at t=62 is 0.47898805583065723\n",
      "Objective value at t=63 is 0.4789876491497863\n",
      "Objective value at t=64 is 0.47898729429766007\n",
      "Objective value at t=65 is 0.4789869845672139\n",
      "Objective value at t=66 is 0.4789867141347591\n",
      "Objective value at t=67 is 0.4789864779412863\n",
      "Objective value at t=68 is 0.47898627159007845\n",
      "Objective value at t=69 is 0.47898609125833647\n",
      "Objective value at t=70 is 0.4789859336208523\n",
      "Objective value at t=71 is 0.47898579578404815\n",
      "Objective value at t=72 is 0.47898567522894125\n",
      "Objective value at t=73 is 0.4789855697617963\n",
      "Objective value at t=74 is 0.47898547747140985\n",
      "Objective value at t=75 is 0.47898539669211193\n",
      "Objective value at t=76 is 0.4789853259717047\n",
      "Objective value at t=77 is 0.47898526404366726\n",
      "Objective value at t=78 is 0.478985209803043\n",
      "Objective value at t=79 is 0.47898516228551563\n",
      "Objective value at t=80 is 0.4789851206492417\n",
      "Objective value at t=81 is 0.47898508415906954\n",
      "Objective value at t=82 is 0.4789850521728264\n",
      "Objective value at t=83 is 0.47898502412939564\n",
      "Objective value at t=84 is 0.4789849995383484\n",
      "Objective value at t=85 is 0.478984977970921\n",
      "Objective value at t=86 is 0.4789849590521621\n",
      "Objective value at t=87 is 0.47898494245409445\n",
      "Objective value at t=88 is 0.47898492788975927\n",
      "Objective value at t=89 is 0.478984915108024\n",
      "Objective value at t=90 is 0.4789849038890595\n",
      "Objective value at t=91 is 0.4789848940403935\n",
      "Objective value at t=92 is 0.4789848853934689\n",
      "Objective value at t=93 is 0.4789848778006409\n",
      "Objective value at t=94 is 0.4789848711325561\n",
      "Objective value at t=95 is 0.47898486527586315\n",
      "Objective value at t=96 is 0.47898486013121405\n",
      "Objective value at t=97 is 0.4789848556115174\n",
      "Objective value at t=98 is 0.47898485164041354\n",
      "Objective value at t=99 is 0.47898484815093867\n"
     ]
    }
   ],
   "source": [
    "lam = 1E-6\n",
    "stepsize = 1.0\n",
    "w, objvals_gd = grad_descent(x_train, y_train, lam, stepsize)"
   ]
  },
  {
   "cell_type": "markdown",
   "metadata": {},
   "source": [
    "## 3.2. Stochastic gradient descent (SGD)\n",
    "\n",
    "Define $Q_i (w) = \\log \\Big( 1 + \\exp \\big( - y_i x_i^T w \\big) \\Big) + \\frac{\\lambda}{2} \\| w \\|_2^2 $.\n",
    "\n",
    "The stochastic gradient at $w$ is $g_i = \\frac{\\partial Q_i }{ \\partial w} = -\\frac{y_i x_i }{1 + \\exp ( y_i x_i^T w)} + \\lambda w$."
   ]
  },
  {
   "cell_type": "code",
   "execution_count": 11,
   "metadata": {},
   "outputs": [],
   "source": [
    "# Calculate the objective Q_i and the gradient of Q_i\n",
    "# Inputs:\n",
    "#     w: d-by-1 matrix\n",
    "#     xi: 1-by-d matrix\n",
    "#     yi: scalar\n",
    "#     lam: scalar, the regularization parameter\n",
    "# Return:\n",
    "#     obj: scalar, the objective Q_i\n",
    "#     g: d-by-1 matrix, gradient of Q_i\n",
    "def stochastic_objective_gradient(w, xi, yi, lam):\n",
    "    d = xi.shape[0]\n",
    "    yx = yi * xi # 1-by-d matrix\n",
    "    yxw = float(numpy.dot(yx, w)) # scalar\n",
    "    \n",
    "    # calculate objective function Q_i\n",
    "    loss = numpy.log(1 + numpy.exp(-yxw)) # scalar\n",
    "    reg = lam / 2 * numpy.sum(w * w) # scalar\n",
    "    obj = loss + reg\n",
    "    \n",
    "    # calculate stochastic gradient\n",
    "    g_loss = -yx.T / (1 + numpy.exp(yxw)) # d-by-1 matrix\n",
    "    g = g_loss + lam * w # d-by-1 matrix\n",
    "    \n",
    "    return obj, g"
   ]
  },
  {
   "cell_type": "code",
   "execution_count": 12,
   "metadata": {},
   "outputs": [],
   "source": [
    "# SGD for solving logistic regression\n",
    "# Inputs:\n",
    "#     x: n-by-d matrix\n",
    "#     y: n-by-1 matrix\n",
    "#     lam: scalar, the regularization parameter\n",
    "#     stepsize: scalar\n",
    "#     max_epoch: integer, the maximal epochs\n",
    "#     w: d-by-1 matrix, initialization of w\n",
    "# Return:\n",
    "#     w: the solution\n",
    "#     objvals: record of each iteration's objective value\n",
    "def sgd(x, y, lam, stepsize, max_epoch=100, w=None):\n",
    "    n, d = x.shape\n",
    "    objvals = numpy.zeros(max_epoch) # store the objective values\n",
    "    if w is None:\n",
    "        w = numpy.zeros((d, 1)) # zero initialization\n",
    "    \n",
    "    for t in range(max_epoch):\n",
    "        # randomly shuffle the samples\n",
    "        rand_indices = numpy.random.permutation(n)\n",
    "        x_rand = x[rand_indices, :]\n",
    "        y_rand = y[rand_indices, :]\n",
    "        \n",
    "        objval = 0 # accumulate the objective values\n",
    "        for i in range(n):\n",
    "            xi = x_rand[i, :] # 1-by-d matrix\n",
    "            yi = float(y_rand[i, :]) # scalar\n",
    "            obj, g = stochastic_objective_gradient(w, xi, yi, lam)\n",
    "            objval += obj\n",
    "            w -= stepsize * g\n",
    "        \n",
    "        stepsize *= 0.9 # decrease step size\n",
    "        objval /= n\n",
    "        objvals[t] = objval\n",
    "        print('Objective value at epoch t=' + str(t) + ' is ' + str(objval))\n",
    "    \n",
    "    return w, objvals"
   ]
  },
  {
   "cell_type": "markdown",
   "metadata": {},
   "source": [
    "Run SGD."
   ]
  },
  {
   "cell_type": "code",
   "execution_count": 13,
   "metadata": {},
   "outputs": [
    {
     "name": "stdout",
     "output_type": "stream",
     "text": [
      "Objective value at epoch t=0 is 0.5404743018278384\n",
      "Objective value at epoch t=1 is 0.5278006613487458\n",
      "Objective value at epoch t=2 is 0.516699417360991\n",
      "Objective value at epoch t=3 is 0.5195760355669349\n",
      "Objective value at epoch t=4 is 0.5061211888810082\n",
      "Objective value at epoch t=5 is 0.5079387657825908\n",
      "Objective value at epoch t=6 is 0.5126798948774446\n",
      "Objective value at epoch t=7 is 0.5102768094614475\n",
      "Objective value at epoch t=8 is 0.5028409329553236\n",
      "Objective value at epoch t=9 is 0.5014483398097129\n",
      "Objective value at epoch t=10 is 0.49580870734600274\n",
      "Objective value at epoch t=11 is 0.49693089208025815\n",
      "Objective value at epoch t=12 is 0.49867367287017955\n",
      "Objective value at epoch t=13 is 0.4892911639446025\n",
      "Objective value at epoch t=14 is 0.49513353696017104\n",
      "Objective value at epoch t=15 is 0.48678544366191634\n",
      "Objective value at epoch t=16 is 0.4913280977560607\n",
      "Objective value at epoch t=17 is 0.4901854396449613\n",
      "Objective value at epoch t=18 is 0.4896639923549418\n",
      "Objective value at epoch t=19 is 0.4879931264011265\n",
      "Objective value at epoch t=20 is 0.48647762420632124\n",
      "Objective value at epoch t=21 is 0.48648496165574856\n",
      "Objective value at epoch t=22 is 0.48590158547580636\n",
      "Objective value at epoch t=23 is 0.4849461243649903\n",
      "Objective value at epoch t=24 is 0.4843104406608257\n",
      "Objective value at epoch t=25 is 0.48388646614240594\n",
      "Objective value at epoch t=26 is 0.4836113203461655\n",
      "Objective value at epoch t=27 is 0.4831064522451075\n",
      "Objective value at epoch t=28 is 0.4826995180448284\n",
      "Objective value at epoch t=29 is 0.4819919452942618\n",
      "Objective value at epoch t=30 is 0.4821418727101225\n",
      "Objective value at epoch t=31 is 0.4818496030814483\n",
      "Objective value at epoch t=32 is 0.48161902814924024\n",
      "Objective value at epoch t=33 is 0.4813113521786071\n",
      "Objective value at epoch t=34 is 0.4810513879918651\n",
      "Objective value at epoch t=35 is 0.48090888411869204\n",
      "Objective value at epoch t=36 is 0.4806720770752534\n",
      "Objective value at epoch t=37 is 0.4804991773484413\n",
      "Objective value at epoch t=38 is 0.48035790323781535\n",
      "Objective value at epoch t=39 is 0.48023327068901256\n",
      "Objective value at epoch t=40 is 0.48012238398156476\n",
      "Objective value at epoch t=41 is 0.4799818399414928\n",
      "Objective value at epoch t=42 is 0.47989928951096744\n",
      "Objective value at epoch t=43 is 0.47980847908946195\n",
      "Objective value at epoch t=44 is 0.47971951908233185\n",
      "Objective value at epoch t=45 is 0.4796608387174718\n",
      "Objective value at epoch t=46 is 0.4795832551285325\n",
      "Objective value at epoch t=47 is 0.4795305583108231\n",
      "Objective value at epoch t=48 is 0.4794763741617422\n",
      "Objective value at epoch t=49 is 0.4794266109609401\n",
      "Objective value at epoch t=50 is 0.4793833361518033\n",
      "Objective value at epoch t=51 is 0.4793443555576588\n",
      "Objective value at epoch t=52 is 0.47930753056017494\n",
      "Objective value at epoch t=53 is 0.47927713624159385\n",
      "Objective value at epoch t=54 is 0.47924716945635304\n",
      "Objective value at epoch t=55 is 0.4792203525192347\n",
      "Objective value at epoch t=56 is 0.479196951207042\n",
      "Objective value at epoch t=57 is 0.47917674671287697\n",
      "Objective value at epoch t=58 is 0.47915741525145766\n",
      "Objective value at epoch t=59 is 0.4791395335662753\n",
      "Objective value at epoch t=60 is 0.4791246238378949\n",
      "Objective value at epoch t=61 is 0.4791107671559286\n",
      "Objective value at epoch t=62 is 0.47909823524104145\n",
      "Objective value at epoch t=63 is 0.47908693245727524\n",
      "Objective value at epoch t=64 is 0.4790766898537534\n",
      "Objective value at epoch t=65 is 0.47906758487112217\n",
      "Objective value at epoch t=66 is 0.47905932192481815\n",
      "Objective value at epoch t=67 is 0.4790519019359822\n",
      "Objective value at epoch t=68 is 0.47904516103400924\n",
      "Objective value at epoch t=69 is 0.4790392180122002\n",
      "Objective value at epoch t=70 is 0.47903380795826944\n",
      "Objective value at epoch t=71 is 0.4790289364693138\n",
      "Objective value at epoch t=72 is 0.4790245395742693\n",
      "Objective value at epoch t=73 is 0.479020588679499\n",
      "Objective value at epoch t=74 is 0.47901702542215474\n",
      "Objective value at epoch t=75 is 0.4790138502635754\n",
      "Objective value at epoch t=76 is 0.4790109584289183\n",
      "Objective value at epoch t=77 is 0.4790083652578104\n",
      "Objective value at epoch t=78 is 0.47900604429852844\n",
      "Objective value at epoch t=79 is 0.47900394433393323\n",
      "Objective value at epoch t=80 is 0.4790020532130909\n",
      "Objective value at epoch t=81 is 0.47900035245836203\n",
      "Objective value at epoch t=82 is 0.4789988190528976\n",
      "Objective value at epoch t=83 is 0.47899744448060577\n",
      "Objective value at epoch t=84 is 0.4789962046633557\n",
      "Objective value at epoch t=85 is 0.47899508838221905\n",
      "Objective value at epoch t=86 is 0.4789940829835616\n",
      "Objective value at epoch t=87 is 0.47899317987875234\n",
      "Objective value at epoch t=88 is 0.47899236573150594\n",
      "Objective value at epoch t=89 is 0.4789916336951229\n",
      "Objective value at epoch t=90 is 0.47899097431490195\n",
      "Objective value at epoch t=91 is 0.4789903808499673\n",
      "Objective value at epoch t=92 is 0.478989847179048\n",
      "Objective value at epoch t=93 is 0.47898936642892576\n",
      "Objective value at epoch t=94 is 0.47898893386089636\n",
      "Objective value at epoch t=95 is 0.47898854460664253\n",
      "Objective value at epoch t=96 is 0.47898819454320574\n",
      "Objective value at epoch t=97 is 0.4789878792876716\n",
      "Objective value at epoch t=98 is 0.4789875954016779\n",
      "Objective value at epoch t=99 is 0.47898734006968163\n"
     ]
    }
   ],
   "source": [
    "lam = 1E-6\n",
    "stepsize = 0.1\n",
    "w, objvals_sgd = sgd(x_train, y_train, lam, stepsize)"
   ]
  },
  {
   "cell_type": "markdown",
   "metadata": {},
   "source": [
    "# 4. Compare GD with SGD\n",
    "\n",
    "Plot objective function values against epochs."
   ]
  },
  {
   "cell_type": "code",
   "execution_count": 14,
   "metadata": {},
   "outputs": [
    {
     "name": "stderr",
     "output_type": "stream",
     "text": [
      "<ipython-input-14-9b8d8f4cdfb5>:9: MatplotlibDeprecationWarning: Case-insensitive properties were deprecated in 3.3 and support will be removed two minor releases later\n",
      "  line0, = plt.plot(epochs_gd, objvals_gd, '--b', LineWidth=4)\n",
      "<ipython-input-14-9b8d8f4cdfb5>:10: MatplotlibDeprecationWarning: Case-insensitive properties were deprecated in 3.3 and support will be removed two minor releases later\n",
      "  line1, = plt.plot(epochs_sgd, objvals_sgd, '-r', LineWidth=2)\n",
      "<ipython-input-14-9b8d8f4cdfb5>:11: MatplotlibDeprecationWarning: Case-insensitive properties were deprecated in 3.3 and support will be removed two minor releases later\n",
      "  plt.xlabel('Epochs', FontSize=20)\n",
      "<ipython-input-14-9b8d8f4cdfb5>:12: MatplotlibDeprecationWarning: Case-insensitive properties were deprecated in 3.3 and support will be removed two minor releases later\n",
      "  plt.ylabel('Objective Value', FontSize=20)\n",
      "<ipython-input-14-9b8d8f4cdfb5>:13: MatplotlibDeprecationWarning: Case-insensitive properties were deprecated in 3.3 and support will be removed two minor releases later\n",
      "  plt.xticks(FontSize=16)\n",
      "<ipython-input-14-9b8d8f4cdfb5>:14: MatplotlibDeprecationWarning: Case-insensitive properties were deprecated in 3.3 and support will be removed two minor releases later\n",
      "  plt.yticks(FontSize=16)\n"
     ]
    },
    {
     "data": {
      "image/png": "[encoded data removed]",
      "text/plain": [
       "<Figure size 432x288 with 1 Axes>"
      ]
     },
     "metadata": {
      "needs_background": "light"
     },
     "output_type": "display_data"
    }
   ],
   "source": [
    "import matplotlib.pyplot as plt\n",
    "%matplotlib inline\n",
    "\n",
    "fig = plt.figure(figsize=(6, 4))\n",
    "\n",
    "epochs_gd = range(len(objvals_gd))\n",
    "epochs_sgd = range(len(objvals_sgd))\n",
    "\n",
    "line0, = plt.plot(epochs_gd, objvals_gd, '--b', LineWidth=4)\n",
    "line1, = plt.plot(epochs_sgd, objvals_sgd, '-r', LineWidth=2)\n",
    "plt.xlabel('Epochs', FontSize=20)\n",
    "plt.ylabel('Objective Value', FontSize=20)\n",
    "plt.xticks(FontSize=16)\n",
    "plt.yticks(FontSize=16)\n",
    "plt.legend([line0, line1], ['GD', 'SGD'], fontsize=20)\n",
    "plt.tight_layout()\n",
    "plt.show()\n",
    "fig.savefig('compare_gd_sgd.pdf', format='pdf', dpi=1200)"
   ]
  },
  {
   "cell_type": "markdown",
   "metadata": {},
   "source": [
    "# 5. Prediction"
   ]
  },
  {
   "cell_type": "code",
   "execution_count": 15,
   "metadata": {},
   "outputs": [],
   "source": [
    "# Predict class label\n",
    "# Inputs:\n",
    "#     w: d-by-1 matrix\n",
    "#     X: m-by-d matrix\n",
    "# Return:\n",
    "#     f: m-by-1 matrix, the predictions\n",
    "def predict(w, X):\n",
    "    xw = numpy.dot(X, w)\n",
    "    f = numpy.sign(xw)\n",
    "    return f"
   ]
  },
  {
   "cell_type": "code",
   "execution_count": 16,
   "metadata": {},
   "outputs": [
    {
     "name": "stdout",
     "output_type": "stream",
     "text": [
      "Training classification error is 0.2265625\n"
     ]
    }
   ],
   "source": [
    "# evaluate training error\n",
    "f_train = predict(w, x_train)\n",
    "diff = numpy.abs(f_train - y_train) / 2\n",
    "error_train = numpy.mean(diff)\n",
    "print('Training classification error is ' + str(error_train))"
   ]
  },
  {
   "cell_type": "code",
   "execution_count": 17,
   "metadata": {},
   "outputs": [
    {
     "name": "stdout",
     "output_type": "stream",
     "text": [
      "Test classification error is 0.1953125\n"
     ]
    }
   ],
   "source": [
    "# evaluate test error\n",
    "f_test = predict(w, x_test)\n",
    "diff = numpy.abs(f_test - y_test) / 2\n",
    "error_test = numpy.mean(diff)\n",
    "print('Test classification error is ' + str(error_test))"
   ]
  },
  {
   "cell_type": "markdown",
   "metadata": {},
   "source": [
    "# 6. Mini-batch SGD (fill the code)\n",
    "\n"
   ]
  },
  {
   "cell_type": "markdown",
   "metadata": {},
   "source": [
    "## 6.1. Compute the objective $Q_I$ and its gradient using a batch of samples\n",
    "\n",
    "Define $Q_I (w) = \\frac{1}{b} \\sum_{i \\in I} \\log \\Big( 1 + \\exp \\big( - y_i x_i^T w \\big) \\Big) + \\frac{\\lambda}{2} \\| w \\|_2^2 $, where $I$ is a set containing $b$ indices randomly drawn from $\\{ 1, \\cdots , n \\}$ without replacement.\n",
    "\n",
    "The stochastic gradient at $w$ is $g_I = \\frac{\\partial Q_I }{ \\partial w} = \\frac{1}{b} \\sum_{i \\in I} \\frac{- y_i x_i }{1 + \\exp ( y_i x_i^T w)} + \\lambda w$."
   ]
  },
  {
   "cell_type": "code",
   "execution_count": 18,
   "metadata": {},
   "outputs": [],
   "source": [
    "# Calculate the objective Q_I and the gradient of Q_I\n",
    "# Inputs:\n",
    "#     w: d-by-1 matrix\n",
    "#     xi: b-by-d matrix\n",
    "#     yi: b-by-1 matrix\n",
    "#     lam: scalar, the regularization parameter\n",
    "#     b: integer, the batch size\n",
    "# Return:\n",
    "#     obj: scalar, the objective Q_i\n",
    "#     g: d-by-1 matrix, gradient of Q_i\n",
    "def mb_stochastic_objective_gradient(w, xi, yi, lam, b):\n",
    "    d = xi.shape[1]\n",
    "    yx = numpy.multiply(yi, xi) # b-by-d matrix\n",
    "    yxw = numpy.dot(yx, w) # scalar\n",
    "    \n",
    "    # calculate objective function Q_i\n",
    "    loss = numpy.sum(numpy.log(1 + numpy.exp(-yxw))) / b # scalar\n",
    "    reg = (lam / 2) * numpy.sum(w * w) # scalar\n",
    "    obj = loss + reg # scalar\n",
    "    \n",
    "    # calculate mb stochastic gradient\n",
    "    g_loss = numpy.sum(numpy.divide(yx, 1 + numpy.exp(yxw)), axis=0).reshape(d, 1) # d-by-1 matrix\n",
    "    g = (-g_loss / b) + lam * w # d-by-1 matrix\n",
    "    \n",
    "    return obj, g"
   ]
  },
  {
   "cell_type": "markdown",
   "metadata": {},
   "source": [
    "## 6.2. Implement mini-batch SGD\n",
    "\n",
    "Hints:\n",
    "1. In every epoch, randomly permute the $n$ samples (just like SGD).\n",
    "2. Each epoch has $\\frac{n}{b}$ iterations. In every iteration, use $b$ samples, and compute the gradient and objective using the ``mb_stochastic_objective_gradient`` function. In the next iteration, use the next $b$ samples, and so on.\n"
   ]
  },
  {
   "cell_type": "code",
   "execution_count": 19,
   "metadata": {},
   "outputs": [],
   "source": [
    "# Mini-Batch SGD for solving logistic regression\n",
    "# Inputs:\n",
    "#     x: n-by-d matrix\n",
    "#     y: n-by-1 matrix\n",
    "#     lam: scalar, the regularization parameter\n",
    "#     b: integer, the batch size\n",
    "#     stepsize: scalar\n",
    "#     max_epoch: integer, the maximal epochs\n",
    "#     w: d-by-1 matrix, initialization of w\n",
    "# Return:\n",
    "#     w: the solution\n",
    "#     objvals: record of each iteration's objective value\n",
    "def mb_sgd(x, y, lam, b, stepsize, max_epoch=100, w=None):\n",
    "    n, d = x.shape\n",
    "    objvals = numpy.zeros(max_epoch) # store the objective values\n",
    "    if w is None:\n",
    "        w = numpy.zeros((d, 1)) # zero initialization\n",
    "        \n",
    "    for t in range(max_epoch):\n",
    "        # randomly shuffle the samples\n",
    "        rand_indices = numpy.random.permutation(n)\n",
    "        x_rand = x[rand_indices, :]\n",
    "        y_rand = y[rand_indices, :]\n",
    "        \n",
    "        objval = 0 # accumulate the objective values\n",
    "        batches = int(n / b)\n",
    "        for i in range(batches):\n",
    "            xi = x_rand[i*b:(i+1)*b, :] # 1-by-d matrix\n",
    "            yi = y_rand[i*b:(i+1)*b, :] # scalar\n",
    "            obj, g = mb_stochastic_objective_gradient(w, xi, yi, lam, b)\n",
    "            objval += obj\n",
    "            w -= stepsize * g\n",
    "        \n",
    "        stepsize *= 0.9 # decrease step size\n",
    "        objval /= batches\n",
    "        objvals[t] = objval\n",
    "        print('Objective value at epoch t=' + str(t) + ' is ' + str(objval))\n",
    "    \n",
    "    return w, objvals"
   ]
  },
  {
   "cell_type": "markdown",
   "metadata": {},
   "source": [
    "## 6.3. Run MB-SGD"
   ]
  },
  {
   "cell_type": "code",
   "execution_count": 40,
   "metadata": {},
   "outputs": [
    {
     "name": "stdout",
     "output_type": "stream",
     "text": [
      "Objective value at epoch t=0 is 0.5623133035414293\n",
      "Objective value at epoch t=1 is 0.5030745086684656\n",
      "Objective value at epoch t=2 is 0.49119819623868494\n",
      "Objective value at epoch t=3 is 0.4864633587715964\n",
      "Objective value at epoch t=4 is 0.48467580528523024\n",
      "Objective value at epoch t=5 is 0.48327672833457636\n",
      "Objective value at epoch t=6 is 0.48312539231066093\n",
      "Objective value at epoch t=7 is 0.48209081685484456\n",
      "Objective value at epoch t=8 is 0.4818307594101168\n",
      "Objective value at epoch t=9 is 0.4812871978166829\n",
      "Objective value at epoch t=10 is 0.48125597116988333\n",
      "Objective value at epoch t=11 is 0.4808345363705209\n",
      "Objective value at epoch t=12 is 0.48064107711472337\n",
      "Objective value at epoch t=13 is 0.48061113441450215\n",
      "Objective value at epoch t=14 is 0.4802673525914306\n",
      "Objective value at epoch t=15 is 0.48020109625740737\n",
      "Objective value at epoch t=16 is 0.4801095450983053\n",
      "Objective value at epoch t=17 is 0.4799214362859683\n",
      "Objective value at epoch t=18 is 0.4799471335155803\n",
      "Objective value at epoch t=19 is 0.47979377663481904\n",
      "Objective value at epoch t=20 is 0.47982161294069997\n",
      "Objective value at epoch t=21 is 0.47970126791758905\n",
      "Objective value at epoch t=22 is 0.479581186396945\n",
      "Objective value at epoch t=23 is 0.4795714519046266\n",
      "Objective value at epoch t=24 is 0.4794602229830597\n",
      "Objective value at epoch t=25 is 0.4794406553094193\n",
      "Objective value at epoch t=26 is 0.47938266641157545\n",
      "Objective value at epoch t=27 is 0.47936362950022016\n",
      "Objective value at epoch t=28 is 0.47934421668098076\n",
      "Objective value at epoch t=29 is 0.4792746345208788\n",
      "Objective value at epoch t=30 is 0.4792766246058628\n",
      "Objective value at epoch t=31 is 0.4792568539897412\n",
      "Objective value at epoch t=32 is 0.4792404943095313\n",
      "Objective value at epoch t=33 is 0.4791927344359924\n",
      "Objective value at epoch t=34 is 0.47918530316428\n",
      "Objective value at epoch t=35 is 0.47916991516674445\n",
      "Objective value at epoch t=36 is 0.4791407654262171\n",
      "Objective value at epoch t=37 is 0.47912922319837203\n",
      "Objective value at epoch t=38 is 0.47913569885763063\n",
      "Objective value at epoch t=39 is 0.47910790128458236\n",
      "Objective value at epoch t=40 is 0.47909733501029617\n",
      "Objective value at epoch t=41 is 0.4790929422783452\n",
      "Objective value at epoch t=42 is 0.47907727815149326\n",
      "Objective value at epoch t=43 is 0.47907204550103283\n",
      "Objective value at epoch t=44 is 0.4790649247839327\n",
      "Objective value at epoch t=45 is 0.4790590839197349\n",
      "Objective value at epoch t=46 is 0.4790559514000571\n",
      "Objective value at epoch t=47 is 0.4790479196802265\n",
      "Objective value at epoch t=48 is 0.4790471129465466\n",
      "Objective value at epoch t=49 is 0.4790424924940709\n",
      "Objective value at epoch t=50 is 0.47903895978017375\n",
      "Objective value at epoch t=51 is 0.4790385002358485\n",
      "Objective value at epoch t=52 is 0.4790345128229207\n",
      "Objective value at epoch t=53 is 0.47903073302014787\n",
      "Objective value at epoch t=54 is 0.47902740367995433\n",
      "Objective value at epoch t=55 is 0.47902764619173854\n",
      "Objective value at epoch t=56 is 0.4790234354235835\n",
      "Objective value at epoch t=57 is 0.4790219377158653\n",
      "Objective value at epoch t=58 is 0.47902236300384426\n",
      "Objective value at epoch t=59 is 0.4790182143000794\n",
      "Objective value at epoch t=60 is 0.479018139058261\n",
      "Objective value at epoch t=61 is 0.4790160391705903\n",
      "Objective value at epoch t=62 is 0.4790159605125548\n",
      "Objective value at epoch t=63 is 0.47901503132097656\n",
      "Objective value at epoch t=64 is 0.47901340443128815\n",
      "Objective value at epoch t=65 is 0.47901322927198803\n",
      "Objective value at epoch t=66 is 0.4790123636344211\n",
      "Objective value at epoch t=67 is 0.47901168308576103\n",
      "Objective value at epoch t=68 is 0.4790117735740223\n",
      "Objective value at epoch t=69 is 0.47901115266118854\n",
      "Objective value at epoch t=70 is 0.4790106025567578\n",
      "Objective value at epoch t=71 is 0.4790100730242073\n",
      "Objective value at epoch t=72 is 0.47900957919821235\n",
      "Objective value at epoch t=73 is 0.4790093787570452\n",
      "Objective value at epoch t=74 is 0.47900930015035226\n",
      "Objective value at epoch t=75 is 0.47900894691636786\n",
      "Objective value at epoch t=76 is 0.47900880722098604\n",
      "Objective value at epoch t=77 is 0.4790085797142078\n",
      "Objective value at epoch t=78 is 0.4790083397062787\n",
      "Objective value at epoch t=79 is 0.479008107262879\n",
      "Objective value at epoch t=80 is 0.47900794610779246\n",
      "Objective value at epoch t=81 is 0.47900778615383466\n",
      "Objective value at epoch t=82 is 0.479007661805508\n",
      "Objective value at epoch t=83 is 0.4790076590451684\n",
      "Objective value at epoch t=84 is 0.47900747126579635\n",
      "Objective value at epoch t=85 is 0.4790075073758041\n",
      "Objective value at epoch t=86 is 0.4790074173762843\n",
      "Objective value at epoch t=87 is 0.47900729144821347\n",
      "Objective value at epoch t=88 is 0.479007177768767\n",
      "Objective value at epoch t=89 is 0.4790071725862119\n",
      "Objective value at epoch t=90 is 0.4790071062911131\n",
      "Objective value at epoch t=91 is 0.47900708372056267\n",
      "Objective value at epoch t=92 is 0.47900700950323866\n",
      "Objective value at epoch t=93 is 0.4790069648842663\n",
      "Objective value at epoch t=94 is 0.47900695348646644\n",
      "Objective value at epoch t=95 is 0.4790069326018533\n",
      "Objective value at epoch t=96 is 0.47900690642417454\n",
      "Objective value at epoch t=97 is 0.47900687064853464\n",
      "Objective value at epoch t=98 is 0.4790068737062074\n",
      "Objective value at epoch t=99 is 0.4790068273227761\n"
     ]
    }
   ],
   "source": [
    "# MB-SGD with batch size b=8\n",
    "lam = 1E-6 # do not change\n",
    "b = 8 # do not change\n",
    "stepsize = 0.063 # you must tune this parameter\n",
    "\n",
    "w, objvals_mbsgd8 = mb_sgd(x_train, y_train, lam, b, stepsize)"
   ]
  },
  {
   "cell_type": "code",
   "execution_count": 49,
   "metadata": {},
   "outputs": [
    {
     "name": "stdout",
     "output_type": "stream",
     "text": [
      "Objective value at epoch t=0 is 0.5772571882055122\n",
      "Objective value at epoch t=1 is 0.5074970928086954\n",
      "Objective value at epoch t=2 is 0.49309684078105853\n",
      "Objective value at epoch t=3 is 0.4877424050430138\n",
      "Objective value at epoch t=4 is 0.48458294660984114\n",
      "Objective value at epoch t=5 is 0.4833937299845724\n",
      "Objective value at epoch t=6 is 0.48229689651070834\n",
      "Objective value at epoch t=7 is 0.48181531118701093\n",
      "Objective value at epoch t=8 is 0.4816823064096236\n",
      "Objective value at epoch t=9 is 0.4811572265232524\n",
      "Objective value at epoch t=10 is 0.481017098481186\n",
      "Objective value at epoch t=11 is 0.48090521521034146\n",
      "Objective value at epoch t=12 is 0.4805098181587579\n",
      "Objective value at epoch t=13 is 0.4803766269783029\n",
      "Objective value at epoch t=14 is 0.4803311197848898\n",
      "Objective value at epoch t=15 is 0.47997934568358547\n",
      "Objective value at epoch t=16 is 0.48000702498420267\n",
      "Objective value at epoch t=17 is 0.4800526677065105\n",
      "Objective value at epoch t=18 is 0.4797178153385987\n",
      "Objective value at epoch t=19 is 0.4797679304633684\n",
      "Objective value at epoch t=20 is 0.47981151853041315\n",
      "Objective value at epoch t=21 is 0.4796993027929801\n",
      "Objective value at epoch t=22 is 0.4794742564180128\n",
      "Objective value at epoch t=23 is 0.47942666777905607\n",
      "Objective value at epoch t=24 is 0.4793929457187313\n",
      "Objective value at epoch t=25 is 0.47946991012300055\n",
      "Objective value at epoch t=26 is 0.47937017077494737\n",
      "Objective value at epoch t=27 is 0.47931252349358966\n",
      "Objective value at epoch t=28 is 0.47929208133450374\n",
      "Objective value at epoch t=29 is 0.47923792461771014\n",
      "Objective value at epoch t=30 is 0.47927404787054717\n",
      "Objective value at epoch t=31 is 0.47924098582848346\n",
      "Objective value at epoch t=32 is 0.47927124738916105\n",
      "Objective value at epoch t=33 is 0.47916621927775244\n",
      "Objective value at epoch t=34 is 0.479138211660641\n",
      "Objective value at epoch t=35 is 0.47915818973875457\n",
      "Objective value at epoch t=36 is 0.4791521684445795\n",
      "Objective value at epoch t=37 is 0.4791387268713379\n",
      "Objective value at epoch t=38 is 0.4790867176557512\n",
      "Objective value at epoch t=39 is 0.47909869249981424\n",
      "Objective value at epoch t=40 is 0.4790986258008239\n",
      "Objective value at epoch t=41 is 0.47908094332007584\n",
      "Objective value at epoch t=42 is 0.47908722330787124\n",
      "Objective value at epoch t=43 is 0.4790829627443582\n",
      "Objective value at epoch t=44 is 0.47906934720948585\n",
      "Objective value at epoch t=45 is 0.4790505822454496\n",
      "Objective value at epoch t=46 is 0.4790726546769227\n",
      "Objective value at epoch t=47 is 0.47907070840019783\n",
      "Objective value at epoch t=48 is 0.4790624674148405\n",
      "Objective value at epoch t=49 is 0.47905123893053103\n",
      "Objective value at epoch t=50 is 0.4790491315274024\n",
      "Objective value at epoch t=51 is 0.47904729975508265\n",
      "Objective value at epoch t=52 is 0.4790404000509801\n",
      "Objective value at epoch t=53 is 0.47904478895235\n",
      "Objective value at epoch t=54 is 0.47904307105910576\n",
      "Objective value at epoch t=55 is 0.47903641226845617\n",
      "Objective value at epoch t=56 is 0.47904000679113734\n",
      "Objective value at epoch t=57 is 0.4790355715998208\n",
      "Objective value at epoch t=58 is 0.4790317099288283\n",
      "Objective value at epoch t=59 is 0.47903329735886224\n",
      "Objective value at epoch t=60 is 0.47903111028106843\n",
      "Objective value at epoch t=61 is 0.47902972483943984\n",
      "Objective value at epoch t=62 is 0.4790302590771091\n",
      "Objective value at epoch t=63 is 0.4790274979735753\n",
      "Objective value at epoch t=64 is 0.4790276850977132\n",
      "Objective value at epoch t=65 is 0.4790268926023245\n",
      "Objective value at epoch t=66 is 0.4790263278050454\n",
      "Objective value at epoch t=67 is 0.4790256339466555\n",
      "Objective value at epoch t=68 is 0.4790259283117565\n",
      "Objective value at epoch t=69 is 0.4790254530689958\n",
      "Objective value at epoch t=70 is 0.4790247455288097\n",
      "Objective value at epoch t=71 is 0.4790243659854749\n",
      "Objective value at epoch t=72 is 0.4790237418934472\n",
      "Objective value at epoch t=73 is 0.4790239967972255\n",
      "Objective value at epoch t=74 is 0.4790232496554362\n",
      "Objective value at epoch t=75 is 0.4790234172590039\n",
      "Objective value at epoch t=76 is 0.4790246085538089\n",
      "Objective value at epoch t=77 is 0.4790233225816096\n",
      "Objective value at epoch t=78 is 0.47902293257072337\n",
      "Objective value at epoch t=79 is 0.47902258643265466\n",
      "Objective value at epoch t=80 is 0.4790231032963753\n",
      "Objective value at epoch t=81 is 0.47902247292148176\n",
      "Objective value at epoch t=82 is 0.47902240963058257\n",
      "Objective value at epoch t=83 is 0.4790222697218377\n",
      "Objective value at epoch t=84 is 0.4790222455668104\n",
      "Objective value at epoch t=85 is 0.4790222894769727\n",
      "Objective value at epoch t=86 is 0.47902226536867454\n",
      "Objective value at epoch t=87 is 0.4790221047008261\n",
      "Objective value at epoch t=88 is 0.47902211376100096\n",
      "Objective value at epoch t=89 is 0.479021935080625\n",
      "Objective value at epoch t=90 is 0.47902183387444747\n",
      "Objective value at epoch t=91 is 0.4790218365745435\n",
      "Objective value at epoch t=92 is 0.4790218484371304\n",
      "Objective value at epoch t=93 is 0.4790217509543039\n",
      "Objective value at epoch t=94 is 0.47902183067890347\n",
      "Objective value at epoch t=95 is 0.47902185484610804\n",
      "Objective value at epoch t=96 is 0.47902174455669827\n",
      "Objective value at epoch t=97 is 0.4790217414613992\n",
      "Objective value at epoch t=98 is 0.4790217338989753\n",
      "Objective value at epoch t=99 is 0.47902170796098476\n"
     ]
    }
   ],
   "source": [
    "# MB-SGD with batch size b=64\n",
    "lam = 1E-6 # do not change\n",
    "b = 64 # do not change\n",
    "stepsize = 0.46 # you must tune this parameter\n",
    "\n",
    "w, objvals_mbsgd64 = mb_sgd(x_train, y_train, lam, b, stepsize)"
   ]
  },
  {
   "cell_type": "markdown",
   "metadata": {},
   "source": [
    "# 7. Plot and compare GD, SGD, and MB-SGD"
   ]
  },
  {
   "cell_type": "markdown",
   "metadata": {},
   "source": [
    "You are required to compare the following algorithms:\n",
    "\n",
    "- Gradient descent (GD)\n",
    "\n",
    "- SGD\n",
    "\n",
    "- MB-SGD with b=8\n",
    "\n",
    "- MB-SGD with b=64\n",
    "\n",
    "Follow the code in Section 4 to plot ```objective function value``` against ```epochs```. There should be four curves in the plot; each curve corresponds to one algorithm."
   ]
  },
  {
   "cell_type": "markdown",
   "metadata": {},
   "source": [
    "Hint: Logistic regression with $\\ell_2$-norm regularization is a strongly convex optimization problem. All the algorithms will converge to the same solution. **In the end, the ``objective function value`` of the 4 algorithms will be the same. If not the same, your implementation must be wrong. Do NOT submit wrong code and wrong result!**"
   ]
  },
  {
   "cell_type": "code",
   "execution_count": 50,
   "metadata": {},
   "outputs": [
    {
     "name": "stderr",
     "output_type": "stream",
     "text": [
      "<ipython-input-50-9c32065997b7>:12: MatplotlibDeprecationWarning: Case-insensitive properties were deprecated in 3.3 and support will be removed two minor releases later\n",
      "  line0, = plt.plot(epochs_gd, objvals_gd, '--b', LineWidth=2)\n",
      "<ipython-input-50-9c32065997b7>:13: MatplotlibDeprecationWarning: Case-insensitive properties were deprecated in 3.3 and support will be removed two minor releases later\n",
      "  line1, = plt.plot(epochs_sgd, objvals_sgd, '-r', LineWidth=2)\n",
      "<ipython-input-50-9c32065997b7>:14: MatplotlibDeprecationWarning: Case-insensitive properties were deprecated in 3.3 and support will be removed two minor releases later\n",
      "  line2, = plt.plot(epochs_mbsgd8, objvals_mbsgd8, '-g', LineWidth=2)\n",
      "<ipython-input-50-9c32065997b7>:15: MatplotlibDeprecationWarning: Case-insensitive properties were deprecated in 3.3 and support will be removed two minor releases later\n",
      "  line3, = plt.plot(epochs_mbsgd8, objvals_mbsgd64, '--y', LineWidth=2)\n",
      "<ipython-input-50-9c32065997b7>:17: MatplotlibDeprecationWarning: Case-insensitive properties were deprecated in 3.3 and support will be removed two minor releases later\n",
      "  plt.xlabel('Epochs', FontSize=20)\n",
      "<ipython-input-50-9c32065997b7>:18: MatplotlibDeprecationWarning: Case-insensitive properties were deprecated in 3.3 and support will be removed two minor releases later\n",
      "  plt.ylabel('Objective Value', FontSize=20)\n",
      "<ipython-input-50-9c32065997b7>:19: MatplotlibDeprecationWarning: Case-insensitive properties were deprecated in 3.3 and support will be removed two minor releases later\n",
      "  plt.xticks(FontSize=16)\n",
      "<ipython-input-50-9c32065997b7>:20: MatplotlibDeprecationWarning: Case-insensitive properties were deprecated in 3.3 and support will be removed two minor releases later\n",
      "  plt.yticks(FontSize=16)\n"
     ]
    },
    {
     "data": {
      "image/png": "[encoded data removed]",
      "text/plain": [
       "<Figure size 720x576 with 1 Axes>"
      ]
     },
     "metadata": {
      "needs_background": "light"
     },
     "output_type": "display_data"
    }
   ],
   "source": [
    "# plot the 4 curves:\n",
    "import matplotlib.pyplot as plt\n",
    "%matplotlib inline\n",
    "\n",
    "fig = plt.figure(figsize=(10, 8))\n",
    "\n",
    "epochs_gd = range(len(objvals_gd))\n",
    "epochs_sgd = range(len(objvals_sgd))\n",
    "epochs_mbsgd8 = range(len(objvals_mbsgd8))\n",
    "epochs_mbsgd64 = range(len(objvals_mbsgd64))\n",
    "\n",
    "line0, = plt.plot(epochs_gd, objvals_gd, '--b', LineWidth=2)\n",
    "line1, = plt.plot(epochs_sgd, objvals_sgd, '-r', LineWidth=2)\n",
    "line2, = plt.plot(epochs_mbsgd8, objvals_mbsgd8, '-g', LineWidth=2)\n",
    "line3, = plt.plot(epochs_mbsgd8, objvals_mbsgd64, '--y', LineWidth=2)\n",
    "\n",
    "plt.xlabel('Epochs', FontSize=20)\n",
    "plt.ylabel('Objective Value', FontSize=20)\n",
    "plt.xticks(FontSize=16)\n",
    "plt.yticks(FontSize=16)\n",
    "plt.legend([line0, line1, line2, line3], ['GD', 'SGD', 'MBSGD8', 'MBSGD64'], fontsize=20)\n",
    "plt.tight_layout()\n",
    "plt.show()\n",
    "fig.savefig('compare_gd_sgd_mbsgd.pdf', format='pdf', dpi=1200)"
   ]
  },
  {
   "cell_type": "markdown",
   "metadata": {},
   "source": []
  }
 ],
 "metadata": {
  "kernelspec": {
   "display_name": "583",
   "language": "python",
   "name": "583"
  },
  "language_info": {
   "codemirror_mode": {
    "name": "ipython",
    "version": 3
   },
   "file_extension": ".py",
   "mimetype": "text/x-python",
   "name": "python",
   "nbconvert_exporter": "python",
   "pygments_lexer": "ipython3",
   "version": "3.8.1"
  }
 },
 "nbformat": 4,
 "nbformat_minor": 2
}
