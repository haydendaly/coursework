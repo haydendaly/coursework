{
 "cells": [
  {
   "cell_type": "code",
   "execution_count": 1,
   "id": "characteristic-train",
   "metadata": {},
   "outputs": [],
   "source": [
    "import numpy as np\n",
    "from scipy import optimize\n",
    "from scipy.spatial.distance import cdist"
   ]
  },
  {
   "cell_type": "code",
   "execution_count": 5,
   "id": "graphic-practitioner",
   "metadata": {},
   "outputs": [
    {
     "data": {
      "text/plain": [
       "39"
      ]
     },
     "execution_count": 5,
     "metadata": {},
     "output_type": "execute_result"
    }
   ],
   "source": [
    "# Number 1 - Manhattan Distance between two vectors\n",
    "x = np.array([3, -10, 9, 0, -2])\n",
    "a = np.array([0, 9, -3, -2, 1])\n",
    "\n",
    "np.abs(x - a).sum()"
   ]
  },
  {
   "cell_type": "code",
   "execution_count": 6,
   "id": "north-saver",
   "metadata": {},
   "outputs": [
    {
     "data": {
      "text/plain": [
       "10.0"
      ]
     },
     "execution_count": 6,
     "metadata": {},
     "output_type": "execute_result"
    }
   ],
   "source": [
    "# Number 2 - l1-norm\n",
    "x = [[3, -10, 9, 0, -2]]\n",
    "\n",
    "np.linalg.norm((x), ord=1)"
   ]
  },
  {
   "cell_type": "code",
   "execution_count": 14,
   "id": "alone-check",
   "metadata": {},
   "outputs": [
    {
     "data": {
      "text/plain": [
       "194.0"
      ]
     },
     "execution_count": 14,
     "metadata": {},
     "output_type": "execute_result"
    }
   ],
   "source": [
    "# Number 2 - l2-norm\n",
    "x = [3, -10, 9, 0, -2]\n",
    "\n",
    "l2 = np.linalg.norm((x), ord=2)\n",
    "l2 ** 2"
   ]
  },
  {
   "cell_type": "code",
   "execution_count": 9,
   "id": "present-reflection",
   "metadata": {},
   "outputs": [
    {
     "data": {
      "text/plain": [
       "-119"
      ]
     },
     "execution_count": 9,
     "metadata": {},
     "output_type": "execute_result"
    }
   ],
   "source": [
    "# Number 3 - Inner product of aT * x\n",
    "x = np.array([3, -10, 9, 0, -2])\n",
    "a = np.array([0, 9, -3, -2, 1])\n",
    "\n",
    "np.inner(a.T, x)"
   ]
  },
  {
   "cell_type": "code",
   "execution_count": 23,
   "id": "addressed-traveler",
   "metadata": {},
   "outputs": [
    {
     "data": {
      "text/plain": [
       "86.64895472633096"
      ]
     },
     "execution_count": 23,
     "metadata": {},
     "output_type": "execute_result"
    }
   ],
   "source": [
    "# Number 3 - lp norm of x at p = 0.5\n",
    "x = [3, -10, 9, 0, -2]\n",
    "\n",
    "np.linalg.norm(x, ord=0.5)"
   ]
  },
  {
   "cell_type": "code",
   "execution_count": 20,
   "id": "boolean-narrow",
   "metadata": {},
   "outputs": [
    {
     "data": {
      "text/plain": [
       "55.0"
      ]
     },
     "execution_count": 20,
     "metadata": {},
     "output_type": "execute_result"
    }
   ],
   "source": [
    "# Number 4 - What is the squared Frobenius norm of A\n",
    "A = [\n",
    "    [-1, 0, 2],\n",
    "    [4, -5, 3]\n",
    "]\n",
    "np.linalg.norm(A) ** 2"
   ]
  },
  {
   "cell_type": "code",
   "execution_count": 39,
   "id": "passing-apache",
   "metadata": {},
   "outputs": [
    {
     "data": {
      "text/plain": [
       "14.212670403551895"
      ]
     },
     "execution_count": 39,
     "metadata": {},
     "output_type": "execute_result"
    }
   ],
   "source": [
    "# Number 4 - The l2 norm of Ab\n",
    "A = np.array([\n",
    "    [-1, 0, 2],\n",
    "    [4, -5, 3]  \n",
    "])\n",
    "b = np.array([5, 6, 7])\n",
    "\n",
    "np.linalg.norm(np.dot(A, b), ord=2)"
   ]
  },
  {
   "cell_type": "code",
   "execution_count": 9,
   "id": "green-colors",
   "metadata": {},
   "outputs": [
    {
     "data": {
      "text/plain": [
       "55"
      ]
     },
     "execution_count": 9,
     "metadata": {},
     "output_type": "execute_result"
    }
   ],
   "source": [
    "# Number 4 - tr(A.T * A)\n",
    "A = np.array([\n",
    "    [-1, 0, 2],\n",
    "    [4, -5, 3]  \n",
    "])\n",
    "np.trace(np.dot(A.T, A))"
   ]
  },
  {
   "cell_type": "code",
   "execution_count": 38,
   "id": "sonic-accordance",
   "metadata": {},
   "outputs": [
    {
     "data": {
      "text/plain": [
       "array([ 9, 11])"
      ]
     },
     "execution_count": 38,
     "metadata": {},
     "output_type": "execute_result"
    }
   ],
   "source": [
    "# Number 5 - A * b first entry\n",
    "np.dot(A, b)"
   ]
  },
  {
   "cell_type": "code",
   "execution_count": 24,
   "id": "tamil-italic",
   "metadata": {},
   "outputs": [
    {
     "data": {
      "text/plain": [
       "False"
      ]
     },
     "execution_count": 24,
     "metadata": {},
     "output_type": "execute_result"
    }
   ],
   "source": [
    "# Number 5 - Is symmetric\n",
    "A = np.array([\n",
    "    [-1, 0, 2],\n",
    "    [4, -5, 3]  \n",
    "])\n",
    "False"
   ]
  },
  {
   "cell_type": "code",
   "execution_count": 11,
   "id": "level-pottery",
   "metadata": {},
   "outputs": [
    {
     "data": {
      "text/plain": [
       "True"
      ]
     },
     "execution_count": 11,
     "metadata": {},
     "output_type": "execute_result"
    }
   ],
   "source": [
    "# Number 5 - A.T * A is symmetric\n",
    "A = np.array([\n",
    "    [-1, 0, 2],\n",
    "    [4, -5, 3]  \n",
    "])\n",
    "X = np.dot(A.T, A)\n",
    "\n",
    "def check_symmetric(a, tol=1e-8):\n",
    "    return np.all(np.abs(a-a.T) < tol)\n",
    "\n",
    "check_symmetric(X)"
   ]
  },
  {
   "cell_type": "code",
   "execution_count": 25,
   "id": "adverse-sociology",
   "metadata": {},
   "outputs": [
    {
     "data": {
      "text/plain": [
       "0.88"
      ]
     },
     "execution_count": 25,
     "metadata": {},
     "output_type": "execute_result"
    }
   ],
   "source": [
    "# Number 6 - False Positive Rate\n",
    "tp = 24\n",
    "fn = 76\n",
    "tn = 12\n",
    "fp = 88\n",
    "\n",
    "fp / (tn + fp)"
   ]
  },
  {
   "cell_type": "code",
   "execution_count": 41,
   "id": "double-ontario",
   "metadata": {},
   "outputs": [
    {
     "data": {
      "text/plain": [
       "0.28"
      ]
     },
     "execution_count": 41,
     "metadata": {},
     "output_type": "execute_result"
    }
   ],
   "source": [
    "# Number 6 - False Positive Rate\n",
    "tp = 63\n",
    "fn = 37\n",
    "tn = 72\n",
    "fp = 28\n",
    "\n",
    "fp / (tn + fp)"
   ]
  },
  {
   "cell_type": "code",
   "execution_count": 40,
   "id": "statutory-shower",
   "metadata": {},
   "outputs": [
    {
     "data": {
      "text/plain": [
       "0.63"
      ]
     },
     "execution_count": 40,
     "metadata": {},
     "output_type": "execute_result"
    }
   ],
   "source": [
    "# Number 6 - True Positive Rate\n",
    "tp = 63\n",
    "fn = 37\n",
    "tn = 72\n",
    "fp = 28\n",
    "\n",
    "tp / (tp + fn)"
   ]
  },
  {
   "cell_type": "code",
   "execution_count": 26,
   "id": "typical-austria",
   "metadata": {},
   "outputs": [],
   "source": [
    "# Number 7 - Partials\n",
    "# 7, 1, 4"
   ]
  },
  {
   "cell_type": "code",
   "execution_count": 29,
   "id": "arranged-furniture",
   "metadata": {},
   "outputs": [
    {
     "data": {
      "text/plain": [
       "True"
      ]
     },
     "execution_count": 29,
     "metadata": {},
     "output_type": "execute_result"
    }
   ],
   "source": [
    "# Number 8 - Minimize function\n",
    "def f(x):\n",
    "    return 3*x**2 + 36*x - 8\n",
    "\n",
    "result = optimize.minimize_scalar(f)\n",
    "result.success"
   ]
  },
  {
   "cell_type": "code",
   "execution_count": 30,
   "id": "democratic-fever",
   "metadata": {},
   "outputs": [
    {
     "data": {
      "text/plain": [
       "-6.000000000000001"
      ]
     },
     "execution_count": 30,
     "metadata": {},
     "output_type": "execute_result"
    }
   ],
   "source": [
    "result.x"
   ]
  },
  {
   "cell_type": "code",
   "execution_count": 31,
   "id": "desperate-basin",
   "metadata": {},
   "outputs": [],
   "source": [
    "# Number 9 - CSR Matrix Cell\n",
    "# 29"
   ]
  },
  {
   "cell_type": "code",
   "execution_count": 32,
   "id": "featured-marker",
   "metadata": {},
   "outputs": [],
   "source": [
    "# Number 10 - Quicker to calculate CSR row or col\n",
    "# Row"
   ]
  },
  {
   "cell_type": "code",
   "execution_count": 33,
   "id": "proud-coating",
   "metadata": {},
   "outputs": [],
   "source": [
    "# Number 11 - Complexity of matrix mulitiplication\n",
    "# O(n^3)"
   ]
  },
  {
   "cell_type": "code",
   "execution_count": null,
   "id": "forward-pioneer",
   "metadata": {},
   "outputs": [],
   "source": []
  }
 ],
 "metadata": {
  "kernelspec": {
   "display_name": "homl",
   "language": "python",
   "name": "homl"
  },
  "language_info": {
   "codemirror_mode": {
    "name": "ipython",
    "version": 3
   },
   "file_extension": ".py",
   "mimetype": "text/x-python",
   "name": "python",
   "nbconvert_exporter": "python",
   "pygments_lexer": "ipython3",
   "version": "3.9.1"
  }
 },
 "nbformat": 4,
 "nbformat_minor": 5
}
