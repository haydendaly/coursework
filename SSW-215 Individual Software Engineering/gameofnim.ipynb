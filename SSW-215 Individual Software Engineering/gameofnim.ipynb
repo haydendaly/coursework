{
 "cells": [
  {
   "cell_type": "code",
   "execution_count": 1,
   "metadata": {},
   "outputs": [
    {
     "name": "stdout",
     "output_type": "stream",
     "text": [
      "User 1\n",
      "How many sticks?\n",
      "3\n",
      "18 sticks remain\n",
      "User 2\n",
      "How many sticks?\n",
      "3\n",
      "15 sticks remain\n",
      "User 1\n",
      "How many sticks?\n",
      "3\n",
      "12 sticks remain\n",
      "User 2\n",
      "How many sticks?\n",
      "3\n",
      "9 sticks remain\n",
      "User 1\n",
      "How many sticks?\n",
      "4\n",
      "That's not in range, try again.\n",
      "User 1\n",
      "How many sticks?\n",
      "3\n",
      "6 sticks remain\n",
      "User 2\n",
      "How many sticks?\n",
      "2\n",
      "4 sticks remain\n",
      "User 1\n",
      "How many sticks?\n",
      "2\n",
      "2 sticks remain\n",
      "User 2\n",
      "How many sticks?\n",
      "1\n",
      "1 sticks remain\n",
      "User 1\n",
      "How many sticks?\n",
      "1\n",
      "You lose @User 1\n"
     ]
    },
    {
     "ename": "SystemExit",
     "evalue": "",
     "output_type": "error",
     "traceback": [
      "An exception has occurred, use %tb to see the full traceback.\n",
      "\u001b[0;31mSystemExit\u001b[0m\n"
     ]
    },
    {
     "name": "stderr",
     "output_type": "stream",
     "text": [
      "/Users/hayden/anaconda3/lib/python3.7/site-packages/IPython/core/interactiveshell.py:2969: UserWarning: To exit: use 'exit', 'quit', or Ctrl-D.\n",
      "  warn(\"To exit: use 'exit', 'quit', or Ctrl-D.\", stacklevel=1)\n"
     ]
    }
   ],
   "source": [
    "import sys # for sys.exit()\n",
    "\n",
    "def choice(sticks, user): \n",
    "    print(\"User\",str(user))\n",
    "    num = int(input(\"How many sticks?\\n\"))\n",
    "    if num <= 3 and num > 0:\n",
    "        if int(sticks - num) <= 0:\n",
    "            print(\"You lose @User \"+str(user))\n",
    "            sys.exit()\n",
    "        else:\n",
    "            print(str(sticks - num),\"sticks remain\")\n",
    "            return int(sticks - num)\n",
    "    else:\n",
    "        print(\"That's not in range, try again.\")\n",
    "        return choice(sticks, user)\n",
    "        \n",
    "sticks = 21\n",
    "while True:\n",
    "    sticks = choice(sticks, 1)\n",
    "    sticks = choice(sticks, 2)"
   ]
  }
 ],
 "metadata": {
  "kernelspec": {
   "display_name": "Python 3",
   "language": "python",
   "name": "python3"
  },
  "language_info": {
   "codemirror_mode": {
    "name": "ipython",
    "version": 3
   },
   "file_extension": ".py",
   "mimetype": "text/x-python",
   "name": "python",
   "nbconvert_exporter": "python",
   "pygments_lexer": "ipython3",
   "version": "3.7.0"
  }
 },
 "nbformat": 4,
 "nbformat_minor": 2
}
