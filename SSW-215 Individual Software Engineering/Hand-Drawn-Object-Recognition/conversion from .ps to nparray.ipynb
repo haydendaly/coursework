{
 "cells": [
  {
   "cell_type": "code",
   "execution_count": 55,
   "metadata": {},
   "outputs": [
    {
     "name": "stdout",
     "output_type": "stream",
     "text": [
      "(28, 28)\n",
      "[[  0   0   0   0   0   0   0  20 254   0   0   0   0   0   0   0   5 161\n",
      "    0   0   0   0   0   0   0   0   0   0]\n",
      " [  0   0   0   0   0   0 104 252   0   0   1   0   0   0   0 252   1   0\n",
      "    0   0   0   0   0   0   0   0   0   0]\n",
      " [  0   0   0   0   0   0 251   0   0   1   0   0   0   0   0   1   0   0\n",
      "    0   0   0 253 214   0   0   0   0   0]\n",
      " [  0   0   0   0 251 251   0   0   2   0   1 236   0   0  18   5   0   0\n",
      "    0   0   0   5   0   0   0   0   0   0]\n",
      " [  0   0   0   0   3   0   0   0   1   1   0   0   1   0  92   0   0   0\n",
      "    0   0   4   0  66   0   0   0   0   0]\n",
      " [  0   0   0   5   0   0   0   1   0   0 135   1   0   6   1   0   0   0\n",
      "    0 252   0 167   0   0   0   0   0   0]\n",
      " [  0   0   1   0   0   0  99   0   0   0   0   0   1 223 254   4   0   0\n",
      "    0   6   0 181   0   0   0   0   0   0]\n",
      " [  0   5   0   0   0   0   1   5   0   0   0   0   1   1   1   0   1   0\n",
      "    4   0   1   0   0   0 248 253   0   0]\n",
      " [  0   0   0 254 137 125   0   0 176   9   0   0   0   2   0 221   1 248\n",
      "    1 114   0   0   0 254 190   0   0   0]\n",
      " [  0   0   0   0 254   6   0   0   0   0   2   5 252 252   0   0   0   1\n",
      "    0   2   0   0   0   2   0   0   0   0]\n",
      " [  0   0   0   0   0 255   1   0   0   0 253 255   1   0   0   0  13   0\n",
      "    1   0  64 235   1   0   0   0   0   0]\n",
      " [  0   0   0   0   6   0   0   1   0   0   5   0   2   1   0 255 246   0\n",
      "  254 253   1   1   4   0   0   0   0   0]\n",
      " [  0   0   0 252   2   0   0   0   4 243   0 254 253   0 252   2   0   3\n",
      "    0   0   1   2   0   1   0   0   0   0]\n",
      " [  0   0   0   0   2   0   0   0   0   1   0   1   0   0   1   0   1   0\n",
      "    0  47   0   0   5   0   0   1   2 247]\n",
      " [  0   0   0   0   0   1   0   0 205   0   4   4   0 254 252   0 228  43\n",
      "  253 254   0   0   0  86   0   0   0   0]\n",
      " [  0   0   0   0   0   0   0   1   3   0   0 246   1   3   0   1   0   0\n",
      "    3   4   0   0   0   0 253   1   0   0]\n",
      " [  0   0   0   0   0   0   0 142   4   0  24   0  20   4 209   0   0   4\n",
      "    0   0   2   0   0   0   0   0   4 253]\n",
      " [  0   0   0   0   0   0   0   1   0 253   1   0 141   0  14   1   1 253\n",
      "    0   0   0  19   0   0   0   0   0   0]\n",
      " [  0   0   0   0   0   0   0   0   0   0   0   1  51   2   0   0   3   0\n",
      "    2 198   0   0 253  24   0   0   0   0]\n",
      " [  0   0   0   0   0   0   0   0   0   0 206   0 249   5   0   1   0   0\n",
      "    0   0 184   1   0   0   5   0   0   0]\n",
      " [  0   0   0   0   0   0   0   0   0   0   2   0   1   0 216   1   0   0\n",
      "    0   0   0   0   0   1   5   2   0   0]\n",
      " [  0   0   0   0   0   0   0   0   0   5   0   1   0   0  50   0 253   1\n",
      "    0   0   0   0   0   0   0   1 255   0]\n",
      " [  0   0   0   0   0   0   0   0   0 251   1   0   0   1   0   0   0   0\n",
      "   58   1   0   0   0   0   0   0   0   1]\n",
      " [  0   0   0   0   0   0   0   0   6  67 254   0 222 255   0   0   0   0\n",
      "    0   0   1 101   0   0   0   0   0   0]\n",
      " [  0   0   0   0   0   0   0   4 107 252   0   0   5   0   0   0   0   0\n",
      "    0   0   0   0   1  99   0   0   0   0]\n",
      " [  0   0   0   0   0   0 252   0   0   0   0   1   0   0   0   0   0   0\n",
      "    0   0   0   0   0   0   1   1   0   0]\n",
      " [  0   0   0   0   0   0   6   0   0   0 234 255   0   0   0   0   0   0\n",
      "    0   0   0   0   0   0   0   0 170   5]\n",
      " [  0   0   0   0   0   4   0   0   0   0  38   0   0   0   0   0   0   0\n",
      "    0   0   0   0   0   0   0   0   0   0]]\n"
     ]
    },
    {
     "data": {
      "text/plain": [
       "<matplotlib.image.AxesImage at 0x11dfcbb38>"
      ]
     },
     "execution_count": 55,
     "metadata": {},
     "output_type": "execute_result"
    },
    {
     "data": {
      "image/png": "[encoded data removed]",
      "text/plain": [
       "<Figure size 432x288 with 1 Axes>"
      ]
     },
     "metadata": {
      "needs_background": "light"
     },
     "output_type": "display_data"
    }
   ],
   "source": [
    "from PIL import Image\n",
    "import numpy as np\n",
    "import matplotlib.pyplot as plt\n",
    "%matplotlib inline\n",
    "\n",
    "img = Image.open(\"image.ps\")\n",
    "img.save(\"image.png\", \"png\")\n",
    "\n",
    "img = Image.open(\"image.png\")\n",
    "img = img.resize((280, 56), Image.ANTIALIAS)\n",
    "img = img.resize((28,28))\n",
    "img.save(\"image.png\")\n",
    "\n",
    "img = Image.open(\"image.png\")\n",
    "np_img = np.array(img)\n",
    "np_img = np_img[:,:,0]\n",
    "np_img = abs(np_img-255)\n",
    "\n",
    "print(np_img.shape)\n",
    "print(np_img)\n",
    "plt.imshow(np_img)"
   ]
  },
  {
   "cell_type": "code",
   "execution_count": null,
   "metadata": {},
   "outputs": [],
   "source": []
  }
 ],
 "metadata": {
  "kernelspec": {
   "display_name": "Python 3",
   "language": "python",
   "name": "python3"
  },
  "language_info": {
   "codemirror_mode": {
    "name": "ipython",
    "version": 3
   },
   "file_extension": ".py",
   "mimetype": "text/x-python",
   "name": "python",
   "nbconvert_exporter": "python",
   "pygments_lexer": "ipython3",
   "version": "3.7.0"
  }
 },
 "nbformat": 4,
 "nbformat_minor": 2
}
