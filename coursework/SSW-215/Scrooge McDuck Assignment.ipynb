{
 "cells": [
  {
   "cell_type": "markdown",
   "metadata": {},
   "source": [
    "# Bank Class\n",
    "## Init\n",
    "Intializes class with balance, name and identification number.\n",
    "\n",
    "## Withdraw\n",
    "Creates a withdraw function using various if statements to meet the prerequisites of the assignments. The first if statement is too determine whether or not the selected amount is less than 10% of the account. If it is, it will subtract $5 from the account and add to the penalties total. If it is not, it will go into the withdrawal cycle which is just a bunch of if statements and deductions from objects in order to match all the assignment requirements.\n",
    "\n",
    "## Deposit\n",
    "Just takes in an amount and deposits into a selected object's balance."
   ]
  },
  {
   "cell_type": "code",
   "execution_count": 2,
   "metadata": {},
   "outputs": [],
   "source": [
    "class Bank:\n",
    "    def __init__ (self, bal, name, iden):\n",
    "        self.bal = bal\n",
    "        self.name = name\n",
    "        self.iden = iden\n",
    "    def withdraw(self, amount):\n",
    "        if self.bal*.1 < amount:\n",
    "            self.bal = self.bal - 5\n",
    "            print(\"Insufficient funds: $5 Pentalty\")\n",
    "            penalties.bal += 5\n",
    "        else:\n",
    "            self.bal = self.bal - amount\n",
    "            self.bal -= amount\n",
    "            if self.iden == 700007:\n",
    "                dewey.bal += amount\n",
    "                louie.bal += amount\n",
    "                scrooge.bal -= amount*2\n",
    "                withdrawals.bal += amount*3\n",
    "            elif self.iden == 800008:\n",
    "                huey.bal += amount\n",
    "                louie.bal += amount\n",
    "                scrooge.bal -= amount*2\n",
    "                withdrawals.bal += amount*3\n",
    "            elif self.iden == 900009:\n",
    "                huey.bal += amount\n",
    "                dewey.bal += amount\n",
    "            else:\n",
    "                withdrawals.bal += amount\n",
    "                print(\"Thanks, Mr. McDuck\")\n",
    "        return self.bal\n",
    "    def deposit(self, amount):\n",
    "        self.bal = self.bal + amount\n",
    "        deposits.bal += amount\n",
    "        return self.bal"
   ]
  },
  {
   "cell_type": "markdown",
   "metadata": {},
   "source": [
    "# Intializing Values\n",
    "I added penalties, deposits and withdrawals all as bank objects and gave them random id numbers. This made it easier to increment them throughout the code."
   ]
  },
  {
   "cell_type": "code",
   "execution_count": 3,
   "metadata": {},
   "outputs": [],
   "source": [
    "huey = Bank(150, 'Huey Duck', 700007)\n",
    "dewey = Bank(350, 'Dewey Duck', 800008)\n",
    "louie = Bank(25, 'Louie Duck', 900009)\n",
    "scrooge = Bank(1000000, 'Scrooge McDuck', 100001)\n",
    "penalties = Bank(0, 'Penalties', 111111)\n",
    "deposits = Bank(0, 'Deposits', 111112)\n",
    "withdrawals = Bank(0, 'Withdraws' , 111113)"
   ]
  },
  {
   "cell_type": "markdown",
   "metadata": {},
   "source": [
    "# Summary Statement\n",
    "Just made a quick stylized summary to print the account information between actions."
   ]
  },
  {
   "cell_type": "code",
   "execution_count": 4,
   "metadata": {},
   "outputs": [],
   "source": [
    "def summary():\n",
    "    print(\"-----------------------------------\")\n",
    "    print(\"|   Name:   |   ID   |  Balance\")\n",
    "    print(\"-----------------------------------\")\n",
    "    print(\"| S. Mcduck | 100001 |\", scrooge.bal)\n",
    "    print(\"| H. Duck:  | 700007 |\", huey.bal)\n",
    "    print(\"| D. Duck:  | 800008 |\", dewey.bal)\n",
    "    print(\"| L. Duck:  | 900009 |\", louie.bal)\n",
    "    print(\"-----------------------------------\")\n",
    "    print(\"Total withdrawals:\", withdrawals.bal)\n",
    "    print(\"Total deposits:\",deposits.bal)\n",
    "    print(\"Total penalties:\",penalties.bal)"
   ]
  },
  {
   "cell_type": "markdown",
   "metadata": {},
   "source": [
    "# Specified Procedue\n",
    "The given cycle of commands to do for the assignment."
   ]
  },
  {
   "cell_type": "code",
   "execution_count": 5,
   "metadata": {},
   "outputs": [
    {
     "name": "stdout",
     "output_type": "stream",
     "text": [
      "-----------------------------------\n",
      "|   Name:   |   ID   |  Balance\n",
      "-----------------------------------\n",
      "| S. Mcduck | 100001 | 1000000\n",
      "| H. Duck:  | 700007 | 152\n",
      "| D. Duck:  | 800008 | 352\n",
      "| L. Duck:  | 900009 | 21\n",
      "-----------------------------------\n",
      "Total withdrawals: 0\n",
      "Total deposits: 0\n",
      "Total penalties: 0\n",
      "-----------------------------------\n",
      "|   Name:   |   ID   |  Balance\n",
      "-----------------------------------\n",
      "| S. Mcduck | 100001 | 999960\n",
      "| H. Duck:  | 700007 | 172\n",
      "| D. Duck:  | 800008 | 312\n",
      "| L. Duck:  | 900009 | 41\n",
      "-----------------------------------\n",
      "Total withdrawals: 60\n",
      "Total deposits: 0\n",
      "Total penalties: 0\n",
      "Insufficient funds: $5 Pentalty\n",
      "-----------------------------------\n",
      "|   Name:   |   ID   |  Balance\n",
      "-----------------------------------\n",
      "| S. Mcduck | 100001 | 999960\n",
      "| H. Duck:  | 700007 | 167\n",
      "| D. Duck:  | 800008 | 312\n",
      "| L. Duck:  | 900009 | 41\n",
      "-----------------------------------\n",
      "Total withdrawals: 60\n",
      "Total deposits: 0\n",
      "Total penalties: 5\n",
      "Insufficient funds: $5 Pentalty\n",
      "-----------------------------------\n",
      "|   Name:   |   ID   |  Balance\n",
      "-----------------------------------\n",
      "| S. Mcduck | 100001 | 999960\n",
      "| H. Duck:  | 700007 | 167\n",
      "| D. Duck:  | 800008 | 312\n",
      "| L. Duck:  | 900009 | 36\n",
      "-----------------------------------\n",
      "Total withdrawals: 60\n",
      "Total deposits: 0\n",
      "Total penalties: 10\n",
      "-----------------------------------\n",
      "|   Name:   |   ID   |  Balance\n",
      "-----------------------------------\n",
      "| S. Mcduck | 100001 | 999920\n",
      "| H. Duck:  | 700007 | 187\n",
      "| D. Duck:  | 800008 | 272\n",
      "| L. Duck:  | 900009 | 56\n",
      "-----------------------------------\n",
      "Total withdrawals: 120\n",
      "Total deposits: 0\n",
      "Total penalties: 10\n",
      "Insufficient funds: $5 Pentalty\n",
      "-----------------------------------\n",
      "|   Name:   |   ID   |  Balance\n",
      "-----------------------------------\n",
      "| S. Mcduck | 100001 | 999920\n",
      "| H. Duck:  | 700007 | 182\n",
      "| D. Duck:  | 800008 | 272\n",
      "| L. Duck:  | 900009 | 56\n",
      "-----------------------------------\n",
      "Total withdrawals: 120\n",
      "Total deposits: 0\n",
      "Total penalties: 15\n",
      "Insufficient funds: $5 Pentalty\n",
      "-----------------------------------\n",
      "|   Name:   |   ID   |  Balance\n",
      "-----------------------------------\n",
      "| S. Mcduck | 100001 | 999920\n",
      "| H. Duck:  | 700007 | 182\n",
      "| D. Duck:  | 800008 | 272\n",
      "| L. Duck:  | 900009 | 51\n",
      "-----------------------------------\n",
      "Total withdrawals: 120\n",
      "Total deposits: 0\n",
      "Total penalties: 20\n"
     ]
    }
   ],
   "source": [
    "louie.withdraw(2)\n",
    "summary()\n",
    "dewey.withdraw(20)\n",
    "summary()\n",
    "huey.withdraw(20)\n",
    "summary()\n",
    "louie.withdraw(10)\n",
    "summary()\n",
    "dewey.withdraw(20)\n",
    "summary()\n",
    "huey.withdraw(30)\n",
    "summary()\n",
    "louie.withdraw(40)\n",
    "summary()"
   ]
  }
 ],
 "metadata": {
  "kernelspec": {
   "display_name": "Python 3",
   "language": "python",
   "name": "python3"
  },
  "language_info": {
   "codemirror_mode": {
    "name": "ipython",
    "version": 3
   },
   "file_extension": ".py",
   "mimetype": "text/x-python",
   "name": "python",
   "nbconvert_exporter": "python",
   "pygments_lexer": "ipython3",
   "version": "3.7.0"
  }
 },
 "nbformat": 4,
 "nbformat_minor": 2
}
