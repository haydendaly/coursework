{
  "nbformat": 4,
  "nbformat_minor": 0,
  "metadata": {
    "colab": {
      "name": "Model_Project215_V2.ipynb",
      "version": "0.3.2",
      "provenance": [],
      "collapsed_sections": [],
      "toc_visible": true,
      "include_colab_link": true
    },
    "kernelspec": {
      "name": "python3",
      "display_name": "Python 3"
    },
    "accelerator": "GPU"
  },
  "cells": [
    {
      "cell_type": "markdown",
      "metadata": {
        "id": "view-in-github",
        "colab_type": "text"
      },
      "source": [
        "<a href=\"https://colab.research.google.com/github/haydendaly/Hand-Drawn-Object-Recognition/blob/master/Model_Project215_V2.ipynb\" target=\"_parent\"><img src=\"https://colab.research.google.com/assets/colab-badge.svg\" alt=\"Open In Colab\"/></a>"
      ]
    },
    {
      "metadata": {
        "id": "mjBhnnC6qdGF",
        "colab_type": "text"
      },
      "cell_type": "markdown",
      "source": [
        "# Getting the data\n"
      ]
    },
    {
      "metadata": {
        "id": "BCSiajZQGiTh",
        "colab_type": "text"
      },
      "cell_type": "markdown",
      "source": [
        ""
      ]
    },
    {
      "metadata": {
        "id": "3c_dxFwbqiiM",
        "colab_type": "text"
      },
      "cell_type": "markdown",
      "source": [
        "**open class names file** and read each line into a list\n",
        "\n",
        "*we could pick different class names evey time, just by changing items in the list*"
      ]
    },
    {
      "metadata": {
        "id": "u851SG3LpVP2",
        "colab_type": "code",
        "colab": {}
      },
      "cell_type": "code",
      "source": [
        "classes = ['drums', 'sun', 'laptop', 'book', 'traffic_light', 'wristwatch', 'wheel', 'shovel', 'cake', 'clock', 'broom', 'crown', 'cactus', 'car', 'bicycle', 'donut']"
      ],
      "execution_count": 0,
      "outputs": []
    },
    {
      "metadata": {
        "id": "uZ3DY-LWp84z",
        "colab_type": "code",
        "outputId": "e01f7eea-a539-475a-c2bb-03e6bd1cde58",
        "colab": {
          "base_uri": "https://localhost:8080/",
          "height": 35
        }
      },
      "cell_type": "code",
      "source": [
        "print(classes)"
      ],
      "execution_count": 0,
      "outputs": [
        {
          "output_type": "stream",
          "text": [
            "['drums', 'sun', 'laptop', 'book', 'traffic_light', 'wristwatch', 'wheel', 'shovel', 'cake', 'clock', 'broom', 'crown', 'cactus', 'car', 'bicycle', 'donut']\n"
          ],
          "name": "stdout"
        }
      ]
    },
    {
      "metadata": {
        "id": "WGVyDdZFqsya",
        "colab_type": "text"
      },
      "cell_type": "markdown",
      "source": [
        "the new list of class names is clean!"
      ]
    },
    {
      "metadata": {
        "id": "x7zKxLFYrglR",
        "colab_type": "text"
      },
      "cell_type": "markdown",
      "source": [
        "## Import the data\n",
        "\n",
        "1.   Make a new folder called `data` to put images there\n",
        "2.   Use `urllib.request` to bring the data from the google api\n",
        "3.   Iterate through items in the `classes` list we created above, and bring in only the data for those things\n",
        "\n",
        "\n",
        "\n"
      ]
    },
    {
      "metadata": {
        "id": "XXKgMmicqYC4",
        "colab_type": "code",
        "outputId": "f4524979-43f8-4d2f-bdea-c3356bba6ff5",
        "colab": {
          "base_uri": "https://localhost:8080/",
          "height": 35
        }
      },
      "cell_type": "code",
      "source": [
        "!mkdir data"
      ],
      "execution_count": 0,
      "outputs": [
        {
          "output_type": "stream",
          "text": [
            "mkdir: cannot create directory ‘data’: File exists\n"
          ],
          "name": "stdout"
        }
      ]
    },
    {
      "metadata": {
        "id": "5KjKDBT3qxnZ",
        "colab_type": "code",
        "colab": {}
      },
      "cell_type": "code",
      "source": [
        "import urllib.request\n",
        "def download_image_files():\n",
        "  location = 'https://storage.googleapis.com/quickdraw_dataset/full/numpy_bitmap/'\n",
        "  for c in classes:\n",
        "    cls_url = c.replace('_', '%20') #replace spaces with %20 because thats how it is with urls\n",
        "    path = location+cls_url+'.npy'\n",
        "    print(path)\n",
        "    urllib.request.urlretrieve(path, 'data/' + c + '.npy')"
      ],
      "execution_count": 0,
      "outputs": []
    },
    {
      "metadata": {
        "id": "BgNSACbXrbXO",
        "colab_type": "code",
        "outputId": "d83f1abb-fc64-42a5-c640-84381a4ed6ba",
        "colab": {
          "base_uri": "https://localhost:8080/",
          "height": 295
        }
      },
      "cell_type": "code",
      "source": [
        "download_image_files()"
      ],
      "execution_count": 0,
      "outputs": [
        {
          "output_type": "stream",
          "text": [
            "https://storage.googleapis.com/quickdraw_dataset/full/numpy_bitmap/drums.npy\n",
            "https://storage.googleapis.com/quickdraw_dataset/full/numpy_bitmap/sun.npy\n",
            "https://storage.googleapis.com/quickdraw_dataset/full/numpy_bitmap/laptop.npy\n",
            "https://storage.googleapis.com/quickdraw_dataset/full/numpy_bitmap/book.npy\n",
            "https://storage.googleapis.com/quickdraw_dataset/full/numpy_bitmap/traffic%20light.npy\n",
            "https://storage.googleapis.com/quickdraw_dataset/full/numpy_bitmap/wristwatch.npy\n",
            "https://storage.googleapis.com/quickdraw_dataset/full/numpy_bitmap/wheel.npy\n",
            "https://storage.googleapis.com/quickdraw_dataset/full/numpy_bitmap/shovel.npy\n",
            "https://storage.googleapis.com/quickdraw_dataset/full/numpy_bitmap/cake.npy\n",
            "https://storage.googleapis.com/quickdraw_dataset/full/numpy_bitmap/clock.npy\n",
            "https://storage.googleapis.com/quickdraw_dataset/full/numpy_bitmap/broom.npy\n",
            "https://storage.googleapis.com/quickdraw_dataset/full/numpy_bitmap/crown.npy\n",
            "https://storage.googleapis.com/quickdraw_dataset/full/numpy_bitmap/cactus.npy\n",
            "https://storage.googleapis.com/quickdraw_dataset/full/numpy_bitmap/car.npy\n",
            "https://storage.googleapis.com/quickdraw_dataset/full/numpy_bitmap/bicycle.npy\n",
            "https://storage.googleapis.com/quickdraw_dataset/full/numpy_bitmap/donut.npy\n"
          ],
          "name": "stdout"
        }
      ]
    },
    {
      "metadata": {
        "id": "HM6KES2CsJ2k",
        "colab_type": "text"
      },
      "cell_type": "markdown",
      "source": [
        "At this point, all image files (in the form of NumPy objects) have been loaded to the `data` folder."
      ]
    },
    {
      "metadata": {
        "id": "jEHShbfYJZ6W",
        "colab_type": "text"
      },
      "cell_type": "markdown",
      "source": [
        "## Load the .npy files"
      ]
    },
    {
      "metadata": {
        "id": "N86CbBDGrfdi",
        "colab_type": "code",
        "colab": {}
      },
      "cell_type": "code",
      "source": [
        "import os\n",
        "import glob\n",
        "import numpy as np\n",
        "from tensorflow.keras import layers\n",
        "from tensorflow import keras\n",
        "import tensorflow as tf"
      ],
      "execution_count": 0,
      "outputs": []
    },
    {
      "metadata": {
        "id": "yDr_ii4IJl5w",
        "colab_type": "code",
        "colab": {}
      },
      "cell_type": "code",
      "source": [
        "def load_data(root, vfold_ratio=0.2, max_items_per_class=4000):\n",
        "  all_files = glob.glob(os.path.join(root, '*.npy'))\n",
        "  \n",
        "  #initialize variables\n",
        "  x = np.empty([0, 784]) #784 is 28x28, the shape of our flattened image. Creates a 0,784 matrix of really small random numbers\n",
        "  y = np.empty([0])\n",
        "  class_names = []\n",
        "  \n",
        "  #load each data file\n",
        "  for idx, file in enumerate(all_files):\n",
        "    data = np.load(file) #place numpy file into data\n",
        "    data = data[0:max_items_per_class, :] # only use the first X items per class\n",
        "    labels = np.full(data.shape[0], idx)# ??\n",
        "    \n",
        "    x = np.concatenate((x, data), axis=0)\n",
        "    y = np.append(y, labels)\n",
        "    \n",
        "    class_name, ext = os.path.splitext(os.path.basename(file))\n",
        "    class_names.append(class_name)\n",
        "  \n",
        "  data = None\n",
        "  labels = None\n",
        "\n",
        "#   #randomize the dataset \n",
        "  permutation = np.random.permutation(y.shape[0])\n",
        "  x = x[permutation, :]\n",
        "  y = y[permutation]\n",
        "\n",
        "  #separate into training and testing \n",
        "  vfold_size = int(x.shape[0]/100*(vfold_ratio*100))\n",
        "\n",
        "  x_test = x[0:vfold_size, :]\n",
        "  y_test = y[0:vfold_size]\n",
        "\n",
        "  x_train = x[vfold_size:x.shape[0], :]\n",
        "  y_train = y[vfold_size:y.shape[0]]\n",
        "  return x_train, y_train, x_test, y_test, class_names"
      ],
      "execution_count": 0,
      "outputs": []
    },
    {
      "metadata": {
        "id": "02jqBFjbRG1U",
        "colab_type": "code",
        "outputId": "cd086b40-ae36-4e46-e329-09401d7eddf1",
        "colab": {
          "base_uri": "https://localhost:8080/",
          "height": 52
        }
      },
      "cell_type": "code",
      "source": [
        "x_train, y_train, x_test, y_test, class_names = load_data('data')\n",
        "print(x_train.shape)\n",
        "print(y_train.shape)"
      ],
      "execution_count": 0,
      "outputs": [
        {
          "output_type": "stream",
          "text": [
            "(51200, 784)\n",
            "(51200,)\n"
          ],
          "name": "stdout"
        }
      ]
    },
    {
      "metadata": {
        "id": "Ff-Qgmo1RTy5",
        "colab_type": "text"
      },
      "cell_type": "markdown",
      "source": [
        "Set values for the:\n",
        "\n",
        "*   Number of classes (categories)\n",
        "*   Image size \n",
        "\n",
        "\n"
      ]
    },
    {
      "metadata": {
        "id": "5h3SZ5oFDFNE",
        "colab_type": "code",
        "outputId": "e144ccb9-5dbb-4f95-d52c-ac2aa08f39f5",
        "colab": {
          "base_uri": "https://localhost:8080/",
          "height": 35
        }
      },
      "cell_type": "code",
      "source": [
        "print(class_names)"
      ],
      "execution_count": 0,
      "outputs": [
        {
          "output_type": "stream",
          "text": [
            "['cake', 'traffic_light', 'donut', 'book', 'wheel', 'wristwatch', 'laptop', 'sun', 'shovel', 'drums', 'bicycle', 'cactus', 'broom', 'crown', 'car', 'clock']\n"
          ],
          "name": "stdout"
        }
      ]
    },
    {
      "metadata": {
        "id": "JTMqJURXRMDY",
        "colab_type": "code",
        "colab": {}
      },
      "cell_type": "code",
      "source": [
        "\n",
        "num_classes = len(class_names)\n",
        "image_size = 28"
      ],
      "execution_count": 0,
      "outputs": []
    },
    {
      "metadata": {
        "id": "BEpZm14cSdMe",
        "colab_type": "text"
      },
      "cell_type": "markdown",
      "source": [
        "**Run the cell below to see a random data point!**\n",
        "\n"
      ]
    },
    {
      "metadata": {
        "id": "jkrImN6URQan",
        "colab_type": "code",
        "outputId": "ae8672e0-6c0a-454c-bb02-6618f767e52f",
        "colab": {
          "base_uri": "https://localhost:8080/",
          "height": 287
        }
      },
      "cell_type": "code",
      "source": [
        "import matplotlib.pyplot as plt\n",
        "from random import randint\n",
        "%matplotlib inline\n",
        "\n",
        "\n",
        "idx = randint(0, len(x_train))\n",
        "plt.imshow(x_train[idx].reshape(28,28)) #change this to variables\n",
        "print(class_names[int(y_train[idx].item())])\n",
        "\n"
      ],
      "execution_count": 0,
      "outputs": [
        {
          "output_type": "stream",
          "text": [
            "crown\n"
          ],
          "name": "stdout"
        },
        {
          "output_type": "display_data",
          "data": {
            "image/png": "[encoded data removed]",
            "text/plain": [
              "<Figure size 432x288 with 1 Axes>"
            ]
          },
          "metadata": {
            "tags": []
          }
        }
      ]
    },
    {
      "metadata": {
        "id": "xYem0VkLUDC_",
        "colab_type": "text"
      },
      "cell_type": "markdown",
      "source": [
        "# Building a neural network from the labeled data"
      ]
    },
    {
      "metadata": {
        "id": "nMUT4B2VUN2M",
        "colab_type": "text"
      },
      "cell_type": "markdown",
      "source": [
        "## Preprocessing the data"
      ]
    },
    {
      "metadata": {
        "id": "xAIeBbakpKng",
        "colab_type": "text"
      },
      "cell_type": "markdown",
      "source": [
        "### Reshape the data"
      ]
    },
    {
      "metadata": {
        "id": "eqxhFyZkV9Zu",
        "colab_type": "text"
      },
      "cell_type": "markdown",
      "source": [
        "Currently each image's data is stored flattened as a 784 element array. All 51200 images are in the same x_train matrix:\n"
      ]
    },
    {
      "metadata": {
        "id": "HdJAdod1oV_C",
        "colab_type": "code",
        "outputId": "58059abe-1bd4-4e4c-a025-c69728f444d0",
        "colab": {
          "base_uri": "https://localhost:8080/",
          "height": 35
        }
      },
      "cell_type": "code",
      "source": [
        "x_train.shape # as imported"
      ],
      "execution_count": 0,
      "outputs": [
        {
          "output_type": "execute_result",
          "data": {
            "text/plain": [
              "(51200, 784)"
            ]
          },
          "metadata": {
            "tags": []
          },
          "execution_count": 138
        }
      ]
    },
    {
      "metadata": {
        "id": "waGuGMdTpvkR",
        "colab_type": "text"
      },
      "cell_type": "markdown",
      "source": [
        "### Normalize the data\n",
        "\n",
        "In machine learning, you don't want to have data of very different dimensions because it slows down learning. Better to divide data by the max to normalize (make every entry a value between 0 and 1)"
      ]
    },
    {
      "metadata": {
        "id": "98bKD0xXpXrh",
        "colab_type": "code",
        "outputId": "e729097b-9179-4ead-b88b-24dd33d3abf0",
        "colab": {
          "base_uri": "https://localhost:8080/",
          "height": 35
        }
      },
      "cell_type": "code",
      "source": [
        "print(x_train.max()) # before normalization the max value (pure black) is 255"
      ],
      "execution_count": 0,
      "outputs": [
        {
          "output_type": "stream",
          "text": [
            "255.0\n"
          ],
          "name": "stdout"
        }
      ]
    },
    {
      "metadata": {
        "id": "a3DZgqLypTEa",
        "colab_type": "code",
        "colab": {}
      },
      "cell_type": "code",
      "source": [
        "# Normalize\n",
        "x_train /= 255.0 # divide each entry of the matrix by 255 so it becomes a float between 0 and 1\n",
        "x_test /= 255.0"
      ],
      "execution_count": 0,
      "outputs": []
    },
    {
      "metadata": {
        "id": "iF4U0Dt2qTpF",
        "colab_type": "text"
      },
      "cell_type": "markdown",
      "source": [
        "### Reshape the labels"
      ]
    },
    {
      "metadata": {
        "id": "RfKVY4Cpo04H",
        "colab_type": "text"
      },
      "cell_type": "markdown",
      "source": [
        "Current labels are placed in an array of size `0, training_examples`.\n",
        "\n",
        "Convert labels to a matrix of size `(training_examples, num_classes`), with 1 in the position of the correct labels, and 0 elsewhere."
      ]
    },
    {
      "metadata": {
        "id": "LuJOJTujVus7",
        "colab_type": "code",
        "outputId": "0a6594d7-b119-4cf2-ed2c-7547153de9df",
        "colab": {
          "base_uri": "https://localhost:8080/",
          "height": 243
        }
      },
      "cell_type": "code",
      "source": [
        "# make the labels ints, they are currently floats\n",
        "y_train = y_train.astype(int)\n",
        "y_test = y_test.astype(int)\n",
        "\n",
        "print(\"the shape of y_train is: \")\n",
        "print(y_train.shape)\n",
        "\n",
        "print(\"a sample of y_train\")\n",
        "print(y_train)\n",
        "\n",
        "print(\"the values in y_train are\", set(y_train))\n",
        "\n",
        "print(\"the shape of x_train is: \", x_train.shape)\n",
        "\n",
        "print(\"a sample of x_train\", x_train)"
      ],
      "execution_count": 0,
      "outputs": [
        {
          "output_type": "stream",
          "text": [
            "the shape of y_train is: \n",
            "(51200,)\n",
            "a sample of y_train\n",
            "[ 2  8  7 ...  7  8 12]\n",
            "the values in y_train are {0, 1, 2, 3, 4, 5, 6, 7, 8, 9, 10, 11, 12, 13, 14, 15}\n",
            "the shape of x_train is:  (51200, 784)\n",
            "a sample of x_train [[0. 0. 0. ... 0. 0. 0.]\n",
            " [0. 0. 0. ... 0. 0. 0.]\n",
            " [0. 0. 0. ... 0. 0. 0.]\n",
            " ...\n",
            " [0. 0. 0. ... 0. 0. 0.]\n",
            " [0. 0. 0. ... 0. 0. 0.]\n",
            " [0. 0. 0. ... 0. 0. 0.]]\n"
          ],
          "name": "stdout"
        }
      ]
    },
    {
      "metadata": {
        "id": "BvCa3SmTXmRX",
        "colab_type": "text"
      },
      "cell_type": "markdown",
      "source": [
        "## Building the Skeleton of the model"
      ]
    },
    {
      "metadata": {
        "id": "yPfdv2l1ROm3",
        "colab_type": "code",
        "colab": {}
      },
      "cell_type": "code",
      "source": [
        "!pip install -q h5py pyyaml "
      ],
      "execution_count": 0,
      "outputs": []
    },
    {
      "metadata": {
        "id": "k6n1js0ERlp_",
        "colab_type": "code",
        "outputId": "3952d371-6c6c-4dc9-d2a5-39ec11929daf",
        "colab": {
          "base_uri": "https://localhost:8080/",
          "height": 35
        }
      },
      "cell_type": "code",
      "source": [
        "from __future__ import absolute_import, division, print_function\n",
        "import tensorflow as tf\n",
        "from tensorflow import keras\n",
        "import os\n",
        "\n",
        "tf.__version__"
      ],
      "execution_count": 0,
      "outputs": [
        {
          "output_type": "execute_result",
          "data": {
            "text/plain": [
              "'1.13.1'"
            ]
          },
          "metadata": {
            "tags": []
          },
          "execution_count": 144
        }
      ]
    },
    {
      "metadata": {
        "id": "Y7dyCaPSVsth",
        "colab_type": "code",
        "outputId": "0f2c1623-0353-4b58-a5d8-957449bb7a07",
        "colab": {
          "base_uri": "https://localhost:8080/",
          "height": 243
        }
      },
      "cell_type": "code",
      "source": [
        "# Define model\n",
        "def create_model():\n",
        "  model = tf.keras.models.Sequential([\n",
        "      keras.layers.Dense(512, activation=tf.keras.activations.relu, input_shape=(784,)),\n",
        "      keras.layers.Dropout(0.2),\n",
        "      keras.layers.Dense(16, activation=tf.keras.activations.softmax)\n",
        "  ])\n",
        "  \n",
        "  model.compile(optimizer=tf.keras.optimizers.Adam(),\n",
        "                loss=tf.keras.losses.sparse_categorical_crossentropy,\n",
        "                metrics=['accuracy'])\n",
        "  \n",
        "  return model\n",
        "\n",
        "mymodel = create_model()\n",
        "mymodel.summary()"
      ],
      "execution_count": 0,
      "outputs": [
        {
          "output_type": "stream",
          "text": [
            "_________________________________________________________________\n",
            "Layer (type)                 Output Shape              Param #   \n",
            "=================================================================\n",
            "dense_56 (Dense)             (None, 512)               401920    \n",
            "_________________________________________________________________\n",
            "dropout_28 (Dropout)         (None, 512)               0         \n",
            "_________________________________________________________________\n",
            "dense_57 (Dense)             (None, 16)                8208      \n",
            "=================================================================\n",
            "Total params: 410,128\n",
            "Trainable params: 410,128\n",
            "Non-trainable params: 0\n",
            "_________________________________________________________________\n"
          ],
          "name": "stdout"
        }
      ]
    },
    {
      "metadata": {
        "id": "e8VsQwyHeLPr",
        "colab_type": "text"
      },
      "cell_type": "markdown",
      "source": [
        "## Train, test and save the NN"
      ]
    },
    {
      "metadata": {
        "id": "7L9JenvrSMJW",
        "colab_type": "text"
      },
      "cell_type": "markdown",
      "source": [
        "model exists but is not trained. To automatically save checkpoints during and at the end of training. This way you can use a trained model without having to retrain it, or pick-up training where you left of—in case the training process was interrupted.\n",
        "\n",
        "`tf.keras.callbacks.ModelCheckpoint` is a callback that performs this task. The callback takes a couple of arguments to configure checkpointing."
      ]
    },
    {
      "metadata": {
        "id": "egv4EeznSXPV",
        "colab_type": "code",
        "outputId": "0714582a-eef7-4884-eb9c-a6b36f398cae",
        "colab": {
          "base_uri": "https://localhost:8080/",
          "height": 679
        }
      },
      "cell_type": "code",
      "source": [
        "checkpoint_path = \"content/training_1/cp.ckpt\"\n",
        "checkpoint_dir = os.path.dirname(checkpoint_path)\n",
        "\n",
        "# Create checkpoint callback\n",
        "cp_callback = tf.keras.callbacks.ModelCheckpoint(checkpoint_path, \n",
        "                                                 save_weights_only=True,\n",
        "                                                 verbose=1)\n",
        "\n",
        "mymodel = create_model()\n",
        "\n",
        "mymodel.fit(x_train, y_train,  epochs = 5, \n",
        "          validation_data = (x_test,y_test),\n",
        "          callbacks = [cp_callback] \n",
        "          )# pass callback to training\n",
        "\n",
        "# This may generate warnings related to saving the state of the optimizer.\n",
        "# These warnings (and similar warnings throughout this notebook)\n",
        "# are in place to discourage outdated usage, and can be ignored."
      ],
      "execution_count": 0,
      "outputs": [
        {
          "output_type": "stream",
          "text": [
            "Train on 51200 samples, validate on 12800 samples\n",
            "Epoch 1/5\n",
            "51168/51200 [============================>.] - ETA: 0s - loss: 0.9467 - acc: 0.7257\n",
            "Epoch 00001: saving model to content/training_1/cp.ckpt\n",
            "WARNING:tensorflow:This model was compiled with a Keras optimizer (<tensorflow.python.keras.optimizers.Adam object at 0x7fe040ff2320>) but is being saved in TensorFlow format with `save_weights`. The model's weights will be saved, but unlike with TensorFlow optimizers in the TensorFlow format the optimizer's state will not be saved.\n",
            "\n",
            "Consider using a TensorFlow optimizer from `tf.train`.\n",
            "51200/51200 [==============================] - 8s 149us/sample - loss: 0.9464 - acc: 0.7257 - val_loss: 0.6901 - val_acc: 0.8052\n",
            "Epoch 2/5\n",
            "51168/51200 [============================>.] - ETA: 0s - loss: 0.6461 - acc: 0.8137\n",
            "Epoch 00002: saving model to content/training_1/cp.ckpt\n",
            "WARNING:tensorflow:This model was compiled with a Keras optimizer (<tensorflow.python.keras.optimizers.Adam object at 0x7fe040ff2320>) but is being saved in TensorFlow format with `save_weights`. The model's weights will be saved, but unlike with TensorFlow optimizers in the TensorFlow format the optimizer's state will not be saved.\n",
            "\n",
            "Consider using a TensorFlow optimizer from `tf.train`.\n",
            "51200/51200 [==============================] - 6s 109us/sample - loss: 0.6460 - acc: 0.8137 - val_loss: 0.6296 - val_acc: 0.8192\n",
            "Epoch 3/5\n",
            "51168/51200 [============================>.] - ETA: 0s - loss: 0.5408 - acc: 0.8450\n",
            "Epoch 00003: saving model to content/training_1/cp.ckpt\n",
            "WARNING:tensorflow:This model was compiled with a Keras optimizer (<tensorflow.python.keras.optimizers.Adam object at 0x7fe040ff2320>) but is being saved in TensorFlow format with `save_weights`. The model's weights will be saved, but unlike with TensorFlow optimizers in the TensorFlow format the optimizer's state will not be saved.\n",
            "\n",
            "Consider using a TensorFlow optimizer from `tf.train`.\n",
            "51200/51200 [==============================] - 6s 109us/sample - loss: 0.5406 - acc: 0.8450 - val_loss: 0.5918 - val_acc: 0.8360\n",
            "Epoch 4/5\n",
            "50976/51200 [============================>.] - ETA: 0s - loss: 0.4655 - acc: 0.8653\n",
            "Epoch 00004: saving model to content/training_1/cp.ckpt\n",
            "WARNING:tensorflow:This model was compiled with a Keras optimizer (<tensorflow.python.keras.optimizers.Adam object at 0x7fe040ff2320>) but is being saved in TensorFlow format with `save_weights`. The model's weights will be saved, but unlike with TensorFlow optimizers in the TensorFlow format the optimizer's state will not be saved.\n",
            "\n",
            "Consider using a TensorFlow optimizer from `tf.train`.\n",
            "51200/51200 [==============================] - 6s 109us/sample - loss: 0.4651 - acc: 0.8652 - val_loss: 0.5644 - val_acc: 0.8461\n",
            "Epoch 5/5\n",
            "50784/51200 [============================>.] - ETA: 0s - loss: 0.4070 - acc: 0.8806\n",
            "Epoch 00005: saving model to content/training_1/cp.ckpt\n",
            "WARNING:tensorflow:This model was compiled with a Keras optimizer (<tensorflow.python.keras.optimizers.Adam object at 0x7fe040ff2320>) but is being saved in TensorFlow format with `save_weights`. The model's weights will be saved, but unlike with TensorFlow optimizers in the TensorFlow format the optimizer's state will not be saved.\n",
            "\n",
            "Consider using a TensorFlow optimizer from `tf.train`.\n",
            "51200/51200 [==============================] - 6s 109us/sample - loss: 0.4067 - acc: 0.8807 - val_loss: 0.5809 - val_acc: 0.8478\n"
          ],
          "name": "stdout"
        },
        {
          "output_type": "execute_result",
          "data": {
            "text/plain": [
              "<tensorflow.python.keras.callbacks.History at 0x7fe0409ccd68>"
            ]
          },
          "metadata": {
            "tags": []
          },
          "execution_count": 146
        }
      ]
    },
    {
      "metadata": {
        "id": "FNo2CE2EUT1k",
        "colab_type": "code",
        "outputId": "73c16335-b2fe-46e3-85c4-7379cea21317",
        "colab": {
          "base_uri": "https://localhost:8080/",
          "height": 35
        }
      },
      "cell_type": "code",
      "source": [
        "!ls {str(checkpoint_dir)}"
      ],
      "execution_count": 0,
      "outputs": [
        {
          "output_type": "stream",
          "text": [
            "checkpoint  cp.ckpt.data-00000-of-00001  cp.ckpt.index\n"
          ],
          "name": "stdout"
        }
      ]
    },
    {
      "metadata": {
        "id": "SC8aEgO_eaoB",
        "colab_type": "text"
      },
      "cell_type": "markdown",
      "source": [
        "### Test the accuracy"
      ]
    },
    {
      "metadata": {
        "id": "h2rRaWiUVuvp",
        "colab_type": "code",
        "outputId": "18888c3f-f2ab-4e6f-a3f1-5702d7cf418c",
        "colab": {
          "base_uri": "https://localhost:8080/",
          "height": 52
        }
      },
      "cell_type": "code",
      "source": [
        "res_model = create_model()\n",
        "loss, acc = res_model.evaluate(x_test, y_test)\n",
        "print(\"Untrained model, accuracy: {:5.2f}%\".format(100*acc))"
      ],
      "execution_count": 0,
      "outputs": [
        {
          "output_type": "stream",
          "text": [
            "12800/12800 [==============================] - 1s 73us/sample - loss: 2.8551 - acc: 0.0509\n",
            "Untrained model, accuracy:  5.09%\n"
          ],
          "name": "stdout"
        }
      ]
    },
    {
      "metadata": {
        "id": "KhILTNmmWHF-",
        "colab_type": "code",
        "outputId": "45dd7ef2-461d-44d0-ff05-d6c859070152",
        "colab": {
          "base_uri": "https://localhost:8080/",
          "height": 52
        }
      },
      "cell_type": "code",
      "source": [
        "res_model.load_weights(checkpoint_path)\n",
        "loss,acc = res_model.evaluate(x_test, y_test)\n",
        "print(\"Restored model, accuracy: {:5.2f}%\".format(100*acc))"
      ],
      "execution_count": 0,
      "outputs": [
        {
          "output_type": "stream",
          "text": [
            "12800/12800 [==============================] - 1s 55us/sample - loss: 0.5809 - acc: 0.8478\n",
            "Restored model, accuracy: 84.78%\n"
          ],
          "name": "stdout"
        }
      ]
    }
  ]
}