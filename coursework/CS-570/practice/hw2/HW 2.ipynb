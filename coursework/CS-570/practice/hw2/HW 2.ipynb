{
 "cells": [
  {
   "cell_type": "code",
   "execution_count": 113,
   "metadata": {},
   "outputs": [],
   "source": [
    "import string\n",
    "lower = string.ascii_lowercase\n",
    "upper = string.ascii_uppercase\n",
    "def input(filename):\n",
    "    file = open(filename)\n",
    "    filetext = file.read()\n",
    "    lst = list(filetext)\n",
    "    i = 0\n",
    "    for x in lst:\n",
    "        if x in lower or x in upper or x in list(range(1,10)):\n",
    "            i += 1\n",
    "        else:\n",
    "            lst.remove(x)\n",
    "    file = open(\"infile.dat\", 'w')\n",
    "    file.write(''.join(lst))\n",
    "    file.close()"
   ]
  },
  {
   "cell_type": "code",
   "execution_count": 114,
   "metadata": {},
   "outputs": [],
   "source": [
    "input(\"input.txt\")"
   ]
  },
  {
   "cell_type": "code",
   "execution_count": 112,
   "metadata": {},
   "outputs": [],
   "source": [
    "import numpy as np\n",
    "\n",
    "def frequency(filename):\n",
    "    file = open(filename)\n",
    "    filetext = file.read()\n",
    "    file.close()\n",
    "    lst = list(np.str_(filetext))\n",
    "    all_char = {}\n",
    "    for char in filetext: \n",
    "        if char in all_char: \n",
    "            all_char[char] += 1\n",
    "        else: \n",
    "            all_char[char] = 1\n",
    "    all_char = sorted(all_char.items(), key = lambda x: x[1], reverse = True)\n",
    "    file = open(\"outfile.dat\", 'w')\n",
    "    file.write(\"Symbol        Frequency\\n\")\n",
    "    for x in all_char:\n",
    "        file.write(\"   %s,           %s%%\\n\" % (x[0], round(100*x[1]/len(lst),1)))\n",
    "    file.close()\n",
    "    return all_char"
   ]
  },
  {
   "cell_type": "code",
   "execution_count": 115,
   "metadata": {},
   "outputs": [
    {
     "name": "stdout",
     "output_type": "stream",
     "text": [
      "[('e', 177), ('t', 131), ('o', 126), ('n', 101), ('s', 89), ('a', 86), ('i', 83), ('h', 81), ('r', 77), ('l', 67), ('u', 52), ('d', 50), ('m', 45), ('f', 41), ('y', 41), ('c', 39), ('b', 29), ('w', 25), ('p', 25), ('g', 23), (' ', 22), ('k', 17), ('z', 12), ('v', 9), ('x', 9), ('I', 7), ('T', 6), (',', 6), ('M', 4), ('5', 3), ('0', 3), ('j', 3), ('\\n', 3), ('R', 2), ('E', 2), ('L', 2), ('P', 2), ('8', 2), ('A', 2), ('3', 2), ('C', 1), ('J', 1), ('7', 1), ('4', 1), ('6', 1), ('D', 1), ('Z', 1), ('V', 1), ('2', 1), ('W', 1), ('G', 1), ('F', 1), ('B', 1), ('q', 1)]\n"
     ]
    }
   ],
   "source": [
    "totals = frequency(\"infile.dat\")\n",
    "print(totals)"
   ]
  },
  {
   "cell_type": "markdown",
   "metadata": {},
   "source": [
    "# Huffman Tree\n",
    "Here is a simple class for the nodes of the huffman tree."
   ]
  },
  {
   "cell_type": "code",
   "execution_count": 116,
   "metadata": {},
   "outputs": [],
   "source": [
    "class Node(object):\n",
    "    def __init__(self, left = None, right = None, data = None):\n",
    "        self.left = left\n",
    "        self.right = right\n",
    "        self.data = data\n",
    "    def roots(self):\n",
    "        return((self.left, self.right))\n",
    "    def traverse(node, prefix=\"\", code={}):\n",
    "        if path is None:\n",
    "            path = []\n",
    "        if self.left is not None:\n",
    "            if isinstance(self.left[1], Node):\n",
    "                self.left[1].preorder(path+[0])\n",
    "            else:\n",
    "                print(self.left,path+[0])\n",
    "        if self.right is not None:\n",
    "            if isinstance(self.right[1], Node):\n",
    "                self.right[1].preorder(path+[1])\n",
    "            else:\n",
    "                print(self.right,path+[1])"
   ]
  },
  {
   "cell_type": "markdown",
   "metadata": {},
   "source": [
    "# Huffman Algorithm\n",
    "For the Huffman algorithm implementation, I was experiencing difficulty implementing so I consulted the Wikipedia page (https://en.wikipedia.org/wiki/Huffman_coding) and recieved direction from there on how to template the architecture of my code."
   ]
  },
  {
   "cell_type": "code",
   "execution_count": 117,
   "metadata": {},
   "outputs": [],
   "source": [
    "import queue\n",
    "\n",
    "def create(totals):\n",
    "    p = queue.PriorityQueue()\n",
    "    for char in totals:\n",
    "        p.put(char)\n",
    "    while p.qsize() > 1:\n",
    "        l, r = p.get(), p.get()\n",
    "        node = Node(l, r)\n",
    "        p.put((l[0]+r[0], node))     \n",
    "    return p.get()"
   ]
  },
  {
   "cell_type": "code",
   "execution_count": 118,
   "metadata": {},
   "outputs": [
    {
     "name": "stdout",
     "output_type": "stream",
     "text": [
      "e 0000000000000000000001\n",
      "t 0000001\n",
      "o 000000000001\n",
      "n 0000000000001\n",
      "s 00000001\n",
      "a 00000000000000000000000001\n",
      "i 000000000000000001\n",
      "h 0000000000000000001\n",
      "r 000000001\n",
      "l 000000000000001\n",
      "u 000001\n",
      "d 00000000000000000000001\n",
      "m 00000000000001\n",
      "f 01\n",
      "y 01\n",
      "c 000000000000000000000001\n",
      "b 0000000000000000000000001\n",
      "w 0001\n",
      "p 0001\n",
      "g 00000000000000000001\n",
      "  00000000000000000000000000000000000000000000000000001\n",
      "k 0000000000000001\n",
      "z 1\n",
      "v 001\n",
      "x 001\n",
      "I 000000000000000000000000000000000001\n",
      "T 000000000000000000000000000001\n",
      ", 000000000000000000000000000001\n",
      "M 000000000000000000000000000000001\n",
      "5 00000000000000001\n",
      "0 00000000000000001\n",
      "j 00000000000000001\n",
      "\n",
      " 00000000000000001\n",
      "R 0000000000000000000000000000001\n",
      "E 0000000000000000000000000000001\n",
      "L 0000000000000000000000000000001\n",
      "P 0000000000000000000000000000001\n",
      "8 0000000000000000000000000000001\n",
      "A 0000000000000000000000000000001\n",
      "3 0000000000000000000000000000001\n",
      "C 0000000001\n",
      "J 0000000001\n",
      "7 0000000001\n",
      "4 0000000001\n",
      "6 0000000001\n",
      "D 0000000001\n",
      "Z 0000000001\n",
      "V 0000000001\n",
      "2 0000000001\n",
      "W 0000000001\n",
      "G 0000000001\n",
      "F 0000000001\n",
      "B 0000000001\n",
      "q 0000000001\n"
     ]
    }
   ],
   "source": [
    "node = create(totals)\n",
    "code = traverse(node)\n",
    "for i in totals:\n",
    "    print(i[0], code[i[1]])"
   ]
  }
 ],
 "metadata": {
  "kernelspec": {
   "display_name": "Python 3",
   "language": "python",
   "name": "python3"
  },
  "language_info": {
   "codemirror_mode": {
    "name": "ipython",
    "version": 3
   },
   "file_extension": ".py",
   "mimetype": "text/x-python",
   "name": "python",
   "nbconvert_exporter": "python",
   "pygments_lexer": "ipython3",
   "version": "3.7.0"
  }
 },
 "nbformat": 4,
 "nbformat_minor": 2
}
